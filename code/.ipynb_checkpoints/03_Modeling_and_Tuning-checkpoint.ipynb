{
 "cells": [
  {
   "cell_type": "markdown",
   "id": "69fc5705-2df7-4e63-9c9e-b8883a9b5e43",
   "metadata": {},
   "source": [
    "# ![](https://ga-dash.s3.amazonaws.com/production/assets/logo-9f88ae6c9c3871690e33280fcf557f33.png) Capstone Project - Malay Language Social Media Sentiment Analysis"
   ]
  },
  {
   "cell_type": "markdown",
   "id": "57eb5069-3148-49ad-8538-9d046a16328e",
   "metadata": {},
   "source": [
    "## Part 3 - Modeling and Evaluation"
   ]
  },
  {
   "cell_type": "markdown",
   "id": "4c80010c-3a2e-4fac-8219-8681c4d256d9",
   "metadata": {},
   "source": [
    "Before running our models, we will run a few pre-modeling steps - namely: stemming, stop-word removal, train-test split, and creating functions to be used in the evaluation of the different models."
   ]
  },
  {
   "cell_type": "markdown",
   "id": "1d527db1-99be-4ee3-a78e-971bef58f301",
   "metadata": {},
   "source": [
    "## 1. Pre-modeling"
   ]
  },
  {
   "cell_type": "code",
   "execution_count": 1,
   "id": "5532d7a2-5376-4d75-baf5-83aeb5b6936d",
   "metadata": {},
   "outputs": [
    {
     "name": "stderr",
     "output_type": "stream",
     "text": [
      "Cannot import beam_search_ops from Tensorflow Addons, ['malaya.jawi_rumi.deep_model', 'malaya.phoneme.deep_model', 'malaya.rumi_jawi.deep_model', 'malaya.stem.deep_model'] will not available to use, make sure Tensorflow Addons version >= 0.12.0\n",
      "check compatible Tensorflow version with Tensorflow Addons at https://github.com/tensorflow/addons/releases\n",
      "/Users/ezrac/mambaforge/envs/ga_capstone/lib/python3.10/site-packages/tqdm/auto.py:21: TqdmWarning: IProgress not found. Please update jupyter and ipywidgets. See https://ipywidgets.readthedocs.io/en/stable/user_install.html\n",
      "  from .autonotebook import tqdm as notebook_tqdm\n"
     ]
    }
   ],
   "source": [
    "#Importing libraries\n",
    "import pandas as pd\n",
    "import numpy as np\n",
    "import matplotlib.pyplot as plt\n",
    "import seaborn as sns\n",
    "\n",
    "import nltk\n",
    "from nltk.tokenize import word_tokenize\n",
    "#from nltk.corpus import stopwords\n",
    "import stopwordsiso as stopwords\n",
    "\n",
    "from sklearn.model_selection import train_test_split, GridSearchCV\n",
    "from sklearn.feature_extraction.text import TfidfVectorizer\n",
    "from sklearn.pipeline import Pipeline as SklearnPipeline\n",
    "from sklearn.naive_bayes import MultinomialNB\n",
    "from sklearn.linear_model import LogisticRegression\n",
    "from sklearn.ensemble import RandomForestClassifier\n",
    "from sklearn.metrics import confusion_matrix, ConfusionMatrixDisplay, make_scorer, recall_score, precision_recall_curve, auc, precision_score, recall_score, f1_score, roc_auc_score, accuracy_score, RocCurveDisplay\n",
    "from imblearn.over_sampling import SMOTE, RandomOverSampler\n",
    "from imblearn.pipeline import Pipeline as ImblearnPipeline\n",
    "from sklearn.svm import LinearSVC, SVC\n",
    "from sklearn.ensemble import AdaBoostClassifier\n",
    "from sklearn.tree import DecisionTreeClassifier\n",
    "\n",
    "from bs4 import BeautifulSoup\n",
    "from scipy import stats\n",
    "\n",
    "import pickle\n",
    "import malaya"
   ]
  },
  {
   "cell_type": "code",
   "execution_count": 3,
   "id": "17c470dc-7ad4-4b8e-81cb-4fab6fe284fa",
   "metadata": {
    "scrolled": true
   },
   "outputs": [],
   "source": [
    "df = pd.read_csv(\"../data/02_labelled_data.csv\")"
   ]
  },
  {
   "cell_type": "markdown",
   "id": "ed66e08d-8893-41b0-94ff-2502e071a3f6",
   "metadata": {},
   "source": [
    "### 1.1 Sastrawi Stemming (meant for Bahasa text)"
   ]
  },
  {
   "cell_type": "markdown",
   "id": "54746c10-432a-40e1-b172-c85ebae6c567",
   "metadata": {},
   "source": [
    "Due to the nature of the Malay language, the stemming and lemmatization tools available in the English-specific NLTK cannot be used.\n",
    "\n",
    "We will be using the Sastrawi stemmer, which is a stemmer used for text in Bahasa Indonesia. Due to the fact that both languages are similar with similar word structures, we will use it for our Bahasa Melayu texts as well."
   ]
  },
  {
   "cell_type": "code",
   "execution_count": 4,
   "id": "685c1e1f-ede5-454a-9b82-041abb9b61e0",
   "metadata": {},
   "outputs": [],
   "source": [
    "sastrawi = malaya.stem.sastrawi()"
   ]
  },
  {
   "cell_type": "code",
   "execution_count": 7,
   "id": "48643c0a-1aef-440f-9bd8-5d3855e39d11",
   "metadata": {},
   "outputs": [],
   "source": [
    "# Creating a function to stem\n",
    "def stemmer_string(text):\n",
    "    return sastrawi.stem(text)\n",
    "\n",
    "df['comment'] = df['comment'].apply(stemmer_string)"
   ]
  },
  {
   "cell_type": "code",
   "execution_count": 8,
   "id": "344d683e-c3f3-4cd6-99ef-0e33ee476503",
   "metadata": {
    "scrolled": true
   },
   "outputs": [
    {
     "data": {
      "text/html": [
       "<div>\n",
       "<style scoped>\n",
       "    .dataframe tbody tr th:only-of-type {\n",
       "        vertical-align: middle;\n",
       "    }\n",
       "\n",
       "    .dataframe tbody tr th {\n",
       "        vertical-align: top;\n",
       "    }\n",
       "\n",
       "    .dataframe thead th {\n",
       "        text-align: right;\n",
       "    }\n",
       "</style>\n",
       "<table border=\"1\" class=\"dataframe\">\n",
       "  <thead>\n",
       "    <tr style=\"text-align: right;\">\n",
       "      <th></th>\n",
       "      <th>sentiments</th>\n",
       "      <th>author</th>\n",
       "      <th>published_at</th>\n",
       "      <th>like_count</th>\n",
       "      <th>comment</th>\n",
       "      <th>video_title</th>\n",
       "      <th>video_published_at</th>\n",
       "      <th>comment_length</th>\n",
       "      <th>comment_word_count</th>\n",
       "    </tr>\n",
       "  </thead>\n",
       "  <tbody>\n",
       "    <tr>\n",
       "      <th>0</th>\n",
       "      <td>neutral</td>\n",
       "      <td>Hafiz Khan</td>\n",
       "      <td>2023-09-06 07:52:06+00:00</td>\n",
       "      <td>0</td>\n",
       "      <td>Org lantan ke apa ji</td>\n",
       "      <td>Respek kakak ni bertarung nyawa dan harta</td>\n",
       "      <td>2019-09-14 04:04:25+00:00</td>\n",
       "      <td>22</td>\n",
       "      <td>5</td>\n",
       "    </tr>\n",
       "    <tr>\n",
       "      <th>1</th>\n",
       "      <td>negative</td>\n",
       "      <td>Mia Adriana</td>\n",
       "      <td>2023-08-18 05:07:29+00:00</td>\n",
       "      <td>0</td>\n",
       "      <td>Kalau lama pecah cermin tu n pichang la org dl...</td>\n",
       "      <td>Respek kakak ni bertarung nyawa dan harta</td>\n",
       "      <td>2019-09-14 04:04:25+00:00</td>\n",
       "      <td>50</td>\n",
       "      <td>11</td>\n",
       "    </tr>\n",
       "    <tr>\n",
       "      <th>2</th>\n",
       "      <td>negative</td>\n",
       "      <td>abdul mutalib</td>\n",
       "      <td>2023-08-10 11:29:37+00:00</td>\n",
       "      <td>0</td>\n",
       "      <td>Patut kak tu beri lesen mcine gun tembak mati ...</td>\n",
       "      <td>Respek kakak ni bertarung nyawa dan harta</td>\n",
       "      <td>2019-09-14 04:04:25+00:00</td>\n",
       "      <td>143</td>\n",
       "      <td>25</td>\n",
       "    </tr>\n",
       "    <tr>\n",
       "      <th>3</th>\n",
       "      <td>negative</td>\n",
       "      <td>abdul mutalib</td>\n",
       "      <td>2023-08-10 11:28:47+00:00</td>\n",
       "      <td>0</td>\n",
       "      <td>Mau langar smpai patah kaki ja . . . Tada kj s...</td>\n",
       "      <td>Respek kakak ni bertarung nyawa dan harta</td>\n",
       "      <td>2019-09-14 04:04:25+00:00</td>\n",
       "      <td>54</td>\n",
       "      <td>10</td>\n",
       "    </tr>\n",
       "    <tr>\n",
       "      <th>4</th>\n",
       "      <td>negative</td>\n",
       "      <td>Syam Ryin</td>\n",
       "      <td>2023-08-08 12:50:10+00:00</td>\n",
       "      <td>0</td>\n",
       "      <td>Mangsa Dalam kereta tu macam mna ? diam je x b...</td>\n",
       "      <td>Respek kakak ni bertarung nyawa dan harta</td>\n",
       "      <td>2019-09-14 04:04:25+00:00</td>\n",
       "      <td>52</td>\n",
       "      <td>9</td>\n",
       "    </tr>\n",
       "    <tr>\n",
       "      <th>...</th>\n",
       "      <td>...</td>\n",
       "      <td>...</td>\n",
       "      <td>...</td>\n",
       "      <td>...</td>\n",
       "      <td>...</td>\n",
       "      <td>...</td>\n",
       "      <td>...</td>\n",
       "      <td>...</td>\n",
       "      <td>...</td>\n",
       "    </tr>\n",
       "    <tr>\n",
       "      <th>24799</th>\n",
       "      <td>positive</td>\n",
       "      <td>im sera</td>\n",
       "      <td>2023-04-06 04:01:56+00:00</td>\n",
       "      <td>2</td>\n",
       "      <td>Lol aku kesini gak</td>\n",
       "      <td>Dato Sri Aliff Syukri - Chu Ku Chuk Raya [Offi...</td>\n",
       "      <td>2023-04-06 04:00:10+00:00</td>\n",
       "      <td>18</td>\n",
       "      <td>4</td>\n",
       "    </tr>\n",
       "    <tr>\n",
       "      <th>24800</th>\n",
       "      <td>positive</td>\n",
       "      <td>Muhammad Shafizan</td>\n",
       "      <td>2023-04-06 04:01:36+00:00</td>\n",
       "      <td>2</td>\n",
       "      <td>nasib baik button dislike tkboleh tngk berapa ...</td>\n",
       "      <td>Dato Sri Aliff Syukri - Chu Ku Chuk Raya [Offi...</td>\n",
       "      <td>2023-04-06 04:00:10+00:00</td>\n",
       "      <td>88</td>\n",
       "      <td>15</td>\n",
       "    </tr>\n",
       "    <tr>\n",
       "      <th>24801</th>\n",
       "      <td>negative</td>\n",
       "      <td>Mr_Adam 92</td>\n",
       "      <td>2023-04-06 04:01:19+00:00</td>\n",
       "      <td>0</td>\n",
       "      <td>kepala cengkirit . tu je bleh cakap kbai</td>\n",
       "      <td>Dato Sri Aliff Syukri - Chu Ku Chuk Raya [Offi...</td>\n",
       "      <td>2023-04-06 04:00:10+00:00</td>\n",
       "      <td>39</td>\n",
       "      <td>6</td>\n",
       "    </tr>\n",
       "    <tr>\n",
       "      <th>24802</th>\n",
       "      <td>negative</td>\n",
       "      <td>Sanjut x Gaming</td>\n",
       "      <td>2023-04-06 04:00:57+00:00</td>\n",
       "      <td>0</td>\n",
       "      <td>ayuh kasi dislike</td>\n",
       "      <td>Dato Sri Aliff Syukri - Chu Ku Chuk Raya [Offi...</td>\n",
       "      <td>2023-04-06 04:00:10+00:00</td>\n",
       "      <td>17</td>\n",
       "      <td>3</td>\n",
       "    </tr>\n",
       "    <tr>\n",
       "      <th>24803</th>\n",
       "      <td>positive</td>\n",
       "      <td>siti nurzafirah</td>\n",
       "      <td>2023-04-06 04:00:37+00:00</td>\n",
       "      <td>1</td>\n",
       "      <td>No syatuuuuu wak . 😂 😂 😂</td>\n",
       "      <td>Dato Sri Aliff Syukri - Chu Ku Chuk Raya [Offi...</td>\n",
       "      <td>2023-04-06 04:00:10+00:00</td>\n",
       "      <td>20</td>\n",
       "      <td>3</td>\n",
       "    </tr>\n",
       "  </tbody>\n",
       "</table>\n",
       "<p>24804 rows × 9 columns</p>\n",
       "</div>"
      ],
      "text/plain": [
       "      sentiments             author               published_at  like_count  \\\n",
       "0        neutral         Hafiz Khan  2023-09-06 07:52:06+00:00           0   \n",
       "1       negative        Mia Adriana  2023-08-18 05:07:29+00:00           0   \n",
       "2       negative      abdul mutalib  2023-08-10 11:29:37+00:00           0   \n",
       "3       negative      abdul mutalib  2023-08-10 11:28:47+00:00           0   \n",
       "4       negative          Syam Ryin  2023-08-08 12:50:10+00:00           0   \n",
       "...          ...                ...                        ...         ...   \n",
       "24799   positive            im sera  2023-04-06 04:01:56+00:00           2   \n",
       "24800   positive  Muhammad Shafizan  2023-04-06 04:01:36+00:00           2   \n",
       "24801   negative         Mr_Adam 92  2023-04-06 04:01:19+00:00           0   \n",
       "24802   negative    Sanjut x Gaming  2023-04-06 04:00:57+00:00           0   \n",
       "24803   positive    siti nurzafirah  2023-04-06 04:00:37+00:00           1   \n",
       "\n",
       "                                                 comment  \\\n",
       "0                                   Org lantan ke apa ji   \n",
       "1      Kalau lama pecah cermin tu n pichang la org dl...   \n",
       "2      Patut kak tu beri lesen mcine gun tembak mati ...   \n",
       "3      Mau langar smpai patah kaki ja . . . Tada kj s...   \n",
       "4      Mangsa Dalam kereta tu macam mna ? diam je x b...   \n",
       "...                                                  ...   \n",
       "24799                                 Lol aku kesini gak   \n",
       "24800  nasib baik button dislike tkboleh tngk berapa ...   \n",
       "24801           kepala cengkirit . tu je bleh cakap kbai   \n",
       "24802                                  ayuh kasi dislike   \n",
       "24803                           No syatuuuuu wak . 😂 😂 😂   \n",
       "\n",
       "                                             video_title  \\\n",
       "0              Respek kakak ni bertarung nyawa dan harta   \n",
       "1              Respek kakak ni bertarung nyawa dan harta   \n",
       "2              Respek kakak ni bertarung nyawa dan harta   \n",
       "3              Respek kakak ni bertarung nyawa dan harta   \n",
       "4              Respek kakak ni bertarung nyawa dan harta   \n",
       "...                                                  ...   \n",
       "24799  Dato Sri Aliff Syukri - Chu Ku Chuk Raya [Offi...   \n",
       "24800  Dato Sri Aliff Syukri - Chu Ku Chuk Raya [Offi...   \n",
       "24801  Dato Sri Aliff Syukri - Chu Ku Chuk Raya [Offi...   \n",
       "24802  Dato Sri Aliff Syukri - Chu Ku Chuk Raya [Offi...   \n",
       "24803  Dato Sri Aliff Syukri - Chu Ku Chuk Raya [Offi...   \n",
       "\n",
       "              video_published_at  comment_length  comment_word_count  \n",
       "0      2019-09-14 04:04:25+00:00              22                   5  \n",
       "1      2019-09-14 04:04:25+00:00              50                  11  \n",
       "2      2019-09-14 04:04:25+00:00             143                  25  \n",
       "3      2019-09-14 04:04:25+00:00              54                  10  \n",
       "4      2019-09-14 04:04:25+00:00              52                   9  \n",
       "...                          ...             ...                 ...  \n",
       "24799  2023-04-06 04:00:10+00:00              18                   4  \n",
       "24800  2023-04-06 04:00:10+00:00              88                  15  \n",
       "24801  2023-04-06 04:00:10+00:00              39                   6  \n",
       "24802  2023-04-06 04:00:10+00:00              17                   3  \n",
       "24803  2023-04-06 04:00:10+00:00              20                   3  \n",
       "\n",
       "[24804 rows x 9 columns]"
      ]
     },
     "execution_count": 8,
     "metadata": {},
     "output_type": "execute_result"
    }
   ],
   "source": [
    "df"
   ]
  },
  {
   "cell_type": "markdown",
   "id": "e8fb5afb-2fef-4832-95cd-168d9951e786",
   "metadata": {},
   "source": [
    "### 1.2 Stop-word removal"
   ]
  },
  {
   "cell_type": "markdown",
   "id": "5ad7c863-e048-4b90-9d12-c6a6d842e27e",
   "metadata": {},
   "source": [
    "We will use StopwordsISO, which is a collection of stopwords for multiple languages."
   ]
  },
  {
   "cell_type": "code",
   "execution_count": 10,
   "id": "121680d9-3ef2-4110-9139-cfbb68aea1f3",
   "metadata": {
    "scrolled": true
   },
   "outputs": [],
   "source": [
    "malay_stopwords = stopwords.stopwords(\"ms\")"
   ]
  },
  {
   "cell_type": "code",
   "execution_count": 11,
   "id": "132e1a99-c5a6-4e5c-9f45-bee30c56e702",
   "metadata": {
    "scrolled": true
   },
   "outputs": [],
   "source": [
    "# Function to remove stopwords from a sentence\n",
    "def remove_stopwords(sentence):\n",
    "    words = word_tokenize(sentence)\n",
    "    filtered_sentence = [word for word in words if word.lower() not in malay_stopwords]\n",
    "    return ' '.join(filtered_sentence)\n",
    "\n",
    "# Remove stopwords from the 'comment' column\n",
    "df['comment'] = df['comment'].apply(remove_stopwords)"
   ]
  },
  {
   "cell_type": "markdown",
   "id": "653d1b71-69ea-4066-9c19-aa0108142a1d",
   "metadata": {},
   "source": [
    "### 1.3 Train-test split"
   ]
  },
  {
   "cell_type": "code",
   "execution_count": 12,
   "id": "6cadbc7f-11b5-4b9a-aa56-ae941d9545f7",
   "metadata": {},
   "outputs": [],
   "source": [
    "df.to_csv('../data/03_DataFrame_to_model_sentiment.csv', index = False)"
   ]
  },
  {
   "cell_type": "code",
   "execution_count": 2,
   "id": "92bdee84-b880-4d8b-a6fc-452b33902168",
   "metadata": {},
   "outputs": [],
   "source": [
    "df = pd.read_csv('../data/03_DataFrame_to_model_sentiment.csv')"
   ]
  },
  {
   "cell_type": "code",
   "execution_count": 3,
   "id": "aac81cdc-55cc-4ef0-bb8f-8c24582814d1",
   "metadata": {},
   "outputs": [],
   "source": [
    "df.dropna(inplace = True)"
   ]
  },
  {
   "cell_type": "code",
   "execution_count": 4,
   "id": "91139e11-11fd-4b64-a955-adab35d32a1a",
   "metadata": {
    "scrolled": true
   },
   "outputs": [],
   "source": [
    "#Assigning X and y variables\n",
    "X=df['comment']\n",
    "y=df['sentiments']\n",
    "\n",
    "#Splitting the data into train and test datasets\n",
    "X_train, X_test, y_train, y_test = train_test_split(X,\n",
    "                                                    y, \n",
    "                                                    random_state=123, \n",
    "                                                    stratify=y)"
   ]
  },
  {
   "cell_type": "markdown",
   "id": "80dcfc5a-4511-4191-b308-e1b0569c3f63",
   "metadata": {},
   "source": [
    "### 1.4 Creating Functions to use in Evaluation"
   ]
  },
  {
   "cell_type": "markdown",
   "id": "f8ffa200-8b89-4b3c-926e-521d699a453f",
   "metadata": {},
   "source": [
    "For the evaluation of the models, we will use the F1 score. We choose the F1 score because there's no clear preference between precision and recall for this project. We are building a general-use model which does not prioritise minimising false negatives or false positives, so we will use the F1 score as the primary evaluation metric. We will also publish the recall, precision, and accuracy scores as well."
   ]
  },
  {
   "cell_type": "code",
   "execution_count": 5,
   "id": "72ca94d0-fa19-4a92-a515-7b7ab88d0de6",
   "metadata": {},
   "outputs": [],
   "source": [
    "#Function to calculate evaluation scores on train set\n",
    "def train_scores(gs, X, y):\n",
    "    pred = gs.predict(X)\n",
    "    print('Train scores')\n",
    "    print('--------------------------')\n",
    "    print(f'F1 score: {round(f1_score(y, pred, average = \"weighted\"), 4)}')\n",
    "    print('--------------------------')\n",
    "    print(f'Recall score: {round(recall_score(y, pred, average = \"weighted\"), 4)}')\n",
    "    print(f'Precision score: {round(precision_score(y, pred, average = \"weighted\"), 4)}')\n",
    "    print(f'Accuracy score: {round(accuracy_score(y, pred), 4)}')"
   ]
  },
  {
   "cell_type": "code",
   "execution_count": 6,
   "id": "bd8d56d2-d817-45a5-8486-3f7e905591cd",
   "metadata": {},
   "outputs": [],
   "source": [
    "#Function to calculate evaluation scores on test set\n",
    "def test_scores(gs, X, y):\n",
    "    pred = gs.predict(X)\n",
    "    print('Test scores')\n",
    "    print('--------------------------')\n",
    "    print(f'F1 score: {round(f1_score(y, pred, average = \"weighted\"), 4)}')\n",
    "    print('--------------------------')\n",
    "    print(f'Recall score: {round(recall_score(y, pred, average = \"weighted\"), 4)}')\n",
    "    print(f'Precision score: {round(precision_score(y, pred, average = \"weighted\"), 4)}')\n",
    "    print(f'Accuracy score: {round(accuracy_score(y, pred), 4)}')"
   ]
  },
  {
   "cell_type": "markdown",
   "id": "26ac8935-51d3-4e41-869b-e530af623a70",
   "metadata": {},
   "source": [
    "## 2. Modeling"
   ]
  },
  {
   "cell_type": "markdown",
   "id": "51ceaaeb-84d2-483a-80a5-5344ea8b0c06",
   "metadata": {},
   "source": [
    "### 2.1 Model 1: TF-IDF vectorizer + Multinomial Naive Bayes Model"
   ]
  },
  {
   "cell_type": "markdown",
   "id": "7c48dbed-4e51-46b8-b0f9-78b9841ff86c",
   "metadata": {},
   "source": [
    "#### 2.1.1 Modeling"
   ]
  },
  {
   "cell_type": "markdown",
   "id": "c02b84ad-6adc-4759-aaf3-4d047766a46b",
   "metadata": {},
   "source": [
    "For this project, we will choose the TF-IDFVectorizer over the CountVectorizer. This is because we want to assign higher values to words that are unique to a certain document, in order to better classify it when doing our sentiment analysis.\n",
    "\n",
    "We will start out by running a Multinomial Naive Bayes model."
   ]
  },
  {
   "cell_type": "code",
   "execution_count": 201,
   "id": "0953f4dc-5b17-4fc1-b080-94dd45bcaa95",
   "metadata": {},
   "outputs": [],
   "source": [
    "#Instantiate pipeline \n",
    "pipe = SklearnPipeline([('tvec', TfidfVectorizer()), \n",
    "                        ('nb', MultinomialNB())])"
   ]
  },
  {
   "cell_type": "code",
   "execution_count": 202,
   "id": "19f63d56-44f4-4243-883f-bc4bd92d988e",
   "metadata": {},
   "outputs": [],
   "source": [
    "#Setting pipe parameters\n",
    "pipe_params={'tvec__min_df': [10],\n",
    "             'tvec__max_df': [0.90, 0.95],\n",
    "             'tvec__ngram_range': [(1,1), (1,2)],\n",
    "             'nb__alpha': [0.0001, 0.001, 0.005, 0.01, 0.1, 1]}"
   ]
  },
  {
   "cell_type": "code",
   "execution_count": 203,
   "id": "75562ed3-ad76-4072-88ca-2f439912d9fb",
   "metadata": {},
   "outputs": [],
   "source": [
    "#Instantiate Gridsearch\n",
    "gs1=GridSearchCV(pipe,\n",
    "                param_grid=pipe_params,\n",
    "                scoring = 'f1_micro',\n",
    "                cv=5)"
   ]
  },
  {
   "cell_type": "code",
   "execution_count": 204,
   "id": "8f2f0559-bce0-483d-b649-47b6c0dc2e56",
   "metadata": {},
   "outputs": [
    {
     "data": {
      "text/html": [
       "<style>#sk-container-id-28 {color: black;}#sk-container-id-28 pre{padding: 0;}#sk-container-id-28 div.sk-toggleable {background-color: white;}#sk-container-id-28 label.sk-toggleable__label {cursor: pointer;display: block;width: 100%;margin-bottom: 0;padding: 0.3em;box-sizing: border-box;text-align: center;}#sk-container-id-28 label.sk-toggleable__label-arrow:before {content: \"▸\";float: left;margin-right: 0.25em;color: #696969;}#sk-container-id-28 label.sk-toggleable__label-arrow:hover:before {color: black;}#sk-container-id-28 div.sk-estimator:hover label.sk-toggleable__label-arrow:before {color: black;}#sk-container-id-28 div.sk-toggleable__content {max-height: 0;max-width: 0;overflow: hidden;text-align: left;background-color: #f0f8ff;}#sk-container-id-28 div.sk-toggleable__content pre {margin: 0.2em;color: black;border-radius: 0.25em;background-color: #f0f8ff;}#sk-container-id-28 input.sk-toggleable__control:checked~div.sk-toggleable__content {max-height: 200px;max-width: 100%;overflow: auto;}#sk-container-id-28 input.sk-toggleable__control:checked~label.sk-toggleable__label-arrow:before {content: \"▾\";}#sk-container-id-28 div.sk-estimator input.sk-toggleable__control:checked~label.sk-toggleable__label {background-color: #d4ebff;}#sk-container-id-28 div.sk-label input.sk-toggleable__control:checked~label.sk-toggleable__label {background-color: #d4ebff;}#sk-container-id-28 input.sk-hidden--visually {border: 0;clip: rect(1px 1px 1px 1px);clip: rect(1px, 1px, 1px, 1px);height: 1px;margin: -1px;overflow: hidden;padding: 0;position: absolute;width: 1px;}#sk-container-id-28 div.sk-estimator {font-family: monospace;background-color: #f0f8ff;border: 1px dotted black;border-radius: 0.25em;box-sizing: border-box;margin-bottom: 0.5em;}#sk-container-id-28 div.sk-estimator:hover {background-color: #d4ebff;}#sk-container-id-28 div.sk-parallel-item::after {content: \"\";width: 100%;border-bottom: 1px solid gray;flex-grow: 1;}#sk-container-id-28 div.sk-label:hover label.sk-toggleable__label {background-color: #d4ebff;}#sk-container-id-28 div.sk-serial::before {content: \"\";position: absolute;border-left: 1px solid gray;box-sizing: border-box;top: 0;bottom: 0;left: 50%;z-index: 0;}#sk-container-id-28 div.sk-serial {display: flex;flex-direction: column;align-items: center;background-color: white;padding-right: 0.2em;padding-left: 0.2em;position: relative;}#sk-container-id-28 div.sk-item {position: relative;z-index: 1;}#sk-container-id-28 div.sk-parallel {display: flex;align-items: stretch;justify-content: center;background-color: white;position: relative;}#sk-container-id-28 div.sk-item::before, #sk-container-id-28 div.sk-parallel-item::before {content: \"\";position: absolute;border-left: 1px solid gray;box-sizing: border-box;top: 0;bottom: 0;left: 50%;z-index: -1;}#sk-container-id-28 div.sk-parallel-item {display: flex;flex-direction: column;z-index: 1;position: relative;background-color: white;}#sk-container-id-28 div.sk-parallel-item:first-child::after {align-self: flex-end;width: 50%;}#sk-container-id-28 div.sk-parallel-item:last-child::after {align-self: flex-start;width: 50%;}#sk-container-id-28 div.sk-parallel-item:only-child::after {width: 0;}#sk-container-id-28 div.sk-dashed-wrapped {border: 1px dashed gray;margin: 0 0.4em 0.5em 0.4em;box-sizing: border-box;padding-bottom: 0.4em;background-color: white;}#sk-container-id-28 div.sk-label label {font-family: monospace;font-weight: bold;display: inline-block;line-height: 1.2em;}#sk-container-id-28 div.sk-label-container {text-align: center;}#sk-container-id-28 div.sk-container {/* jupyter's `normalize.less` sets `[hidden] { display: none; }` but bootstrap.min.css set `[hidden] { display: none !important; }` so we also need the `!important` here to be able to override the default hidden behavior on the sphinx rendered scikit-learn.org. See: https://github.com/scikit-learn/scikit-learn/issues/21755 */display: inline-block !important;position: relative;}#sk-container-id-28 div.sk-text-repr-fallback {display: none;}</style><div id=\"sk-container-id-28\" class=\"sk-top-container\"><div class=\"sk-text-repr-fallback\"><pre>GridSearchCV(cv=5,\n",
       "             estimator=Pipeline(steps=[(&#x27;tvec&#x27;, TfidfVectorizer()),\n",
       "                                       (&#x27;nb&#x27;, MultinomialNB())]),\n",
       "             param_grid={&#x27;nb__alpha&#x27;: [0.0001, 0.001, 0.005, 0.01, 0.1, 1],\n",
       "                         &#x27;tvec__max_df&#x27;: [0.9, 0.95], &#x27;tvec__min_df&#x27;: [10],\n",
       "                         &#x27;tvec__ngram_range&#x27;: [(1, 1), (1, 2)]},\n",
       "             scoring=&#x27;f1_micro&#x27;)</pre><b>In a Jupyter environment, please rerun this cell to show the HTML representation or trust the notebook. <br />On GitHub, the HTML representation is unable to render, please try loading this page with nbviewer.org.</b></div><div class=\"sk-container\" hidden><div class=\"sk-item sk-dashed-wrapped\"><div class=\"sk-label-container\"><div class=\"sk-label sk-toggleable\"><input class=\"sk-toggleable__control sk-hidden--visually\" id=\"sk-estimator-id-123\" type=\"checkbox\" ><label for=\"sk-estimator-id-123\" class=\"sk-toggleable__label sk-toggleable__label-arrow\">GridSearchCV</label><div class=\"sk-toggleable__content\"><pre>GridSearchCV(cv=5,\n",
       "             estimator=Pipeline(steps=[(&#x27;tvec&#x27;, TfidfVectorizer()),\n",
       "                                       (&#x27;nb&#x27;, MultinomialNB())]),\n",
       "             param_grid={&#x27;nb__alpha&#x27;: [0.0001, 0.001, 0.005, 0.01, 0.1, 1],\n",
       "                         &#x27;tvec__max_df&#x27;: [0.9, 0.95], &#x27;tvec__min_df&#x27;: [10],\n",
       "                         &#x27;tvec__ngram_range&#x27;: [(1, 1), (1, 2)]},\n",
       "             scoring=&#x27;f1_micro&#x27;)</pre></div></div></div><div class=\"sk-parallel\"><div class=\"sk-parallel-item\"><div class=\"sk-item\"><div class=\"sk-label-container\"><div class=\"sk-label sk-toggleable\"><input class=\"sk-toggleable__control sk-hidden--visually\" id=\"sk-estimator-id-124\" type=\"checkbox\" ><label for=\"sk-estimator-id-124\" class=\"sk-toggleable__label sk-toggleable__label-arrow\">estimator: Pipeline</label><div class=\"sk-toggleable__content\"><pre>Pipeline(steps=[(&#x27;tvec&#x27;, TfidfVectorizer()), (&#x27;nb&#x27;, MultinomialNB())])</pre></div></div></div><div class=\"sk-serial\"><div class=\"sk-item\"><div class=\"sk-serial\"><div class=\"sk-item\"><div class=\"sk-estimator sk-toggleable\"><input class=\"sk-toggleable__control sk-hidden--visually\" id=\"sk-estimator-id-125\" type=\"checkbox\" ><label for=\"sk-estimator-id-125\" class=\"sk-toggleable__label sk-toggleable__label-arrow\">TfidfVectorizer</label><div class=\"sk-toggleable__content\"><pre>TfidfVectorizer()</pre></div></div></div><div class=\"sk-item\"><div class=\"sk-estimator sk-toggleable\"><input class=\"sk-toggleable__control sk-hidden--visually\" id=\"sk-estimator-id-126\" type=\"checkbox\" ><label for=\"sk-estimator-id-126\" class=\"sk-toggleable__label sk-toggleable__label-arrow\">MultinomialNB</label><div class=\"sk-toggleable__content\"><pre>MultinomialNB()</pre></div></div></div></div></div></div></div></div></div></div></div></div>"
      ],
      "text/plain": [
       "GridSearchCV(cv=5,\n",
       "             estimator=Pipeline(steps=[('tvec', TfidfVectorizer()),\n",
       "                                       ('nb', MultinomialNB())]),\n",
       "             param_grid={'nb__alpha': [0.0001, 0.001, 0.005, 0.01, 0.1, 1],\n",
       "                         'tvec__max_df': [0.9, 0.95], 'tvec__min_df': [10],\n",
       "                         'tvec__ngram_range': [(1, 1), (1, 2)]},\n",
       "             scoring='f1_micro')"
      ]
     },
     "execution_count": 204,
     "metadata": {},
     "output_type": "execute_result"
    }
   ],
   "source": [
    "#Train model\n",
    "gs1.fit(X_train,y_train)"
   ]
  },
  {
   "cell_type": "markdown",
   "id": "6fe326cf-cf43-40ad-b9a0-c1f8f00bccca",
   "metadata": {},
   "source": [
    "#### 2.1.2 Evaluation"
   ]
  },
  {
   "cell_type": "code",
   "execution_count": 317,
   "id": "bc6aab5b-8fee-441f-bda0-7093d8b972a1",
   "metadata": {},
   "outputs": [
    {
     "name": "stdout",
     "output_type": "stream",
     "text": [
      "Train scores\n",
      "--------------------------\n",
      "F1 score: 0.7282\n",
      "--------------------------\n",
      "Recall score: 0.7383\n",
      "Precision score: 0.7359\n",
      "Accuracy score: 0.7383\n"
     ]
    }
   ],
   "source": [
    "train_scores(gs1, X_train, y_train)"
   ]
  },
  {
   "cell_type": "code",
   "execution_count": 318,
   "id": "fd2f5bc9-8bfe-431c-9d6a-063e8f2205e2",
   "metadata": {},
   "outputs": [
    {
     "name": "stdout",
     "output_type": "stream",
     "text": [
      "Test scores\n",
      "--------------------------\n",
      "F1 score: 0.6957\n",
      "--------------------------\n",
      "Recall score: 0.7102\n",
      "Precision score: 0.7024\n",
      "Accuracy score: 0.7102\n"
     ]
    }
   ],
   "source": [
    "test_scores(gs1, X_test, y_test)"
   ]
  },
  {
   "cell_type": "code",
   "execution_count": 320,
   "id": "c9100afb-278c-4e5f-b92c-8a98882ccc67",
   "metadata": {},
   "outputs": [
    {
     "data": {
      "image/png": "[encoded data removed]",
      "text/plain": [
       "<Figure size 640x480 with 2 Axes>"
      ]
     },
     "metadata": {},
     "output_type": "display_data"
    }
   ],
   "source": [
    "class_labels = ['negative', 'neutral', 'positive']\n",
    "pred = gs1.predict(X_test)\n",
    "# Create the confusion matrix\n",
    "cm = confusion_matrix(y_test, pred)\n",
    "\n",
    "# Create the ConfusionMatrixDisplay with display_labels\n",
    "disp = ConfusionMatrixDisplay(confusion_matrix=cm, display_labels=class_labels)\n",
    "\n",
    "# Plot the confusion matrix\n",
    "disp.plot()\n",
    "plt.show()"
   ]
  },
  {
   "cell_type": "code",
   "execution_count": 321,
   "id": "2af34d42-3541-4e42-a75d-5549ee15c011",
   "metadata": {},
   "outputs": [
    {
     "data": {
      "text/plain": [
       "{'nb__alpha': 0.1,\n",
       " 'tvec__max_df': 0.9,\n",
       " 'tvec__min_df': 10,\n",
       " 'tvec__ngram_range': (1, 1)}"
      ]
     },
     "execution_count": 321,
     "metadata": {},
     "output_type": "execute_result"
    }
   ],
   "source": [
    "gs1.best_params_"
   ]
  },
  {
   "cell_type": "markdown",
   "id": "7ef59a05-5a04-4389-ac53-06d1651734fe",
   "metadata": {},
   "source": [
    "*Evaluation of Model 1: The scores are decent, with little overfitting. Next, we will compare this with other Multinomial NB models which address the class imbalance.*"
   ]
  },
  {
   "cell_type": "markdown",
   "id": "98156a8e-20ed-4abc-a16b-b1ac01bcd759",
   "metadata": {},
   "source": [
    "### 2.2 Model 2: RandomOverSampler + TF-IDF vectorizer + Multinomial Naive Bayes Model"
   ]
  },
  {
   "cell_type": "markdown",
   "id": "3720c5db-b9f3-4dca-8878-83fda66d5110",
   "metadata": {},
   "source": [
    "#### 2.2.1 Modeling"
   ]
  },
  {
   "cell_type": "markdown",
   "id": "7fa39a1f-bdcd-42cc-a36d-5d0e03e31bd2",
   "metadata": {},
   "source": [
    "Due to the imbalance of classes, we will attempt to use 3 strategies to see if there are any increases in performance, the RandomOverSampler, SMOTE, and undersampling."
   ]
  },
  {
   "cell_type": "code",
   "execution_count": 223,
   "id": "9bc5bedd-b497-491f-9823-34bd2552ee00",
   "metadata": {},
   "outputs": [],
   "source": [
    "#Instantiate pipeline \n",
    "pipe = ImblearnPipeline([('tvec', TfidfVectorizer()),\n",
    "                         ('ros', RandomOverSampler(sampling_strategy='minority')),\n",
    "                         ('nb', MultinomialNB())])"
   ]
  },
  {
   "cell_type": "code",
   "execution_count": 230,
   "id": "9eb24467-0844-426a-800c-9f781e842719",
   "metadata": {},
   "outputs": [],
   "source": [
    "#Setting pipe parameters\n",
    "pipe_params={'tvec__min_df': [10],\n",
    "             'tvec__max_df': [0.9, 0.95],\n",
    "             'tvec__ngram_range': [(1,1), (1,2)],\n",
    "             'nb__alpha': [0.001, 0.01, 0.1, 0.5, 1]}"
   ]
  },
  {
   "cell_type": "code",
   "execution_count": 231,
   "id": "ff9ba44c-b536-4ac8-8af8-cb58c21ea962",
   "metadata": {},
   "outputs": [
    {
     "data": {
      "text/plain": [
       "{'nb__alpha': 0.01,\n",
       " 'tvec__max_df': 0.95,\n",
       " 'tvec__min_df': 9,\n",
       " 'tvec__ngram_range': (1, 2)}"
      ]
     },
     "execution_count": 231,
     "metadata": {},
     "output_type": "execute_result"
    }
   ],
   "source": [
    "gs2.best_params_"
   ]
  },
  {
   "cell_type": "code",
   "execution_count": 232,
   "id": "1f27a294-493f-4786-a7ec-ea8cc366c20f",
   "metadata": {},
   "outputs": [],
   "source": [
    "#Instantiate Gridsearch\n",
    "gs2=GridSearchCV(pipe,\n",
    "                param_grid=pipe_params,\n",
    "                scoring = 'f1_micro',\n",
    "                cv=5)"
   ]
  },
  {
   "cell_type": "code",
   "execution_count": 233,
   "id": "5a48a4c3-0ffc-493b-b3fd-48bd3073adfa",
   "metadata": {},
   "outputs": [
    {
     "data": {
      "text/html": [
       "<style>#sk-container-id-32 {color: black;}#sk-container-id-32 pre{padding: 0;}#sk-container-id-32 div.sk-toggleable {background-color: white;}#sk-container-id-32 label.sk-toggleable__label {cursor: pointer;display: block;width: 100%;margin-bottom: 0;padding: 0.3em;box-sizing: border-box;text-align: center;}#sk-container-id-32 label.sk-toggleable__label-arrow:before {content: \"▸\";float: left;margin-right: 0.25em;color: #696969;}#sk-container-id-32 label.sk-toggleable__label-arrow:hover:before {color: black;}#sk-container-id-32 div.sk-estimator:hover label.sk-toggleable__label-arrow:before {color: black;}#sk-container-id-32 div.sk-toggleable__content {max-height: 0;max-width: 0;overflow: hidden;text-align: left;background-color: #f0f8ff;}#sk-container-id-32 div.sk-toggleable__content pre {margin: 0.2em;color: black;border-radius: 0.25em;background-color: #f0f8ff;}#sk-container-id-32 input.sk-toggleable__control:checked~div.sk-toggleable__content {max-height: 200px;max-width: 100%;overflow: auto;}#sk-container-id-32 input.sk-toggleable__control:checked~label.sk-toggleable__label-arrow:before {content: \"▾\";}#sk-container-id-32 div.sk-estimator input.sk-toggleable__control:checked~label.sk-toggleable__label {background-color: #d4ebff;}#sk-container-id-32 div.sk-label input.sk-toggleable__control:checked~label.sk-toggleable__label {background-color: #d4ebff;}#sk-container-id-32 input.sk-hidden--visually {border: 0;clip: rect(1px 1px 1px 1px);clip: rect(1px, 1px, 1px, 1px);height: 1px;margin: -1px;overflow: hidden;padding: 0;position: absolute;width: 1px;}#sk-container-id-32 div.sk-estimator {font-family: monospace;background-color: #f0f8ff;border: 1px dotted black;border-radius: 0.25em;box-sizing: border-box;margin-bottom: 0.5em;}#sk-container-id-32 div.sk-estimator:hover {background-color: #d4ebff;}#sk-container-id-32 div.sk-parallel-item::after {content: \"\";width: 100%;border-bottom: 1px solid gray;flex-grow: 1;}#sk-container-id-32 div.sk-label:hover label.sk-toggleable__label {background-color: #d4ebff;}#sk-container-id-32 div.sk-serial::before {content: \"\";position: absolute;border-left: 1px solid gray;box-sizing: border-box;top: 0;bottom: 0;left: 50%;z-index: 0;}#sk-container-id-32 div.sk-serial {display: flex;flex-direction: column;align-items: center;background-color: white;padding-right: 0.2em;padding-left: 0.2em;position: relative;}#sk-container-id-32 div.sk-item {position: relative;z-index: 1;}#sk-container-id-32 div.sk-parallel {display: flex;align-items: stretch;justify-content: center;background-color: white;position: relative;}#sk-container-id-32 div.sk-item::before, #sk-container-id-32 div.sk-parallel-item::before {content: \"\";position: absolute;border-left: 1px solid gray;box-sizing: border-box;top: 0;bottom: 0;left: 50%;z-index: -1;}#sk-container-id-32 div.sk-parallel-item {display: flex;flex-direction: column;z-index: 1;position: relative;background-color: white;}#sk-container-id-32 div.sk-parallel-item:first-child::after {align-self: flex-end;width: 50%;}#sk-container-id-32 div.sk-parallel-item:last-child::after {align-self: flex-start;width: 50%;}#sk-container-id-32 div.sk-parallel-item:only-child::after {width: 0;}#sk-container-id-32 div.sk-dashed-wrapped {border: 1px dashed gray;margin: 0 0.4em 0.5em 0.4em;box-sizing: border-box;padding-bottom: 0.4em;background-color: white;}#sk-container-id-32 div.sk-label label {font-family: monospace;font-weight: bold;display: inline-block;line-height: 1.2em;}#sk-container-id-32 div.sk-label-container {text-align: center;}#sk-container-id-32 div.sk-container {/* jupyter's `normalize.less` sets `[hidden] { display: none; }` but bootstrap.min.css set `[hidden] { display: none !important; }` so we also need the `!important` here to be able to override the default hidden behavior on the sphinx rendered scikit-learn.org. See: https://github.com/scikit-learn/scikit-learn/issues/21755 */display: inline-block !important;position: relative;}#sk-container-id-32 div.sk-text-repr-fallback {display: none;}</style><div id=\"sk-container-id-32\" class=\"sk-top-container\"><div class=\"sk-text-repr-fallback\"><pre>GridSearchCV(cv=5,\n",
       "             estimator=Pipeline(steps=[(&#x27;tvec&#x27;, TfidfVectorizer()),\n",
       "                                       (&#x27;ros&#x27;,\n",
       "                                        RandomOverSampler(sampling_strategy=&#x27;minority&#x27;)),\n",
       "                                       (&#x27;nb&#x27;, MultinomialNB())]),\n",
       "             param_grid={&#x27;nb__alpha&#x27;: [0.001, 0.01, 0.1, 0.5, 1],\n",
       "                         &#x27;tvec__max_df&#x27;: [0.9, 0.95], &#x27;tvec__min_df&#x27;: [10],\n",
       "                         &#x27;tvec__ngram_range&#x27;: [(1, 1), (1, 2)]},\n",
       "             scoring=&#x27;f1_micro&#x27;)</pre><b>In a Jupyter environment, please rerun this cell to show the HTML representation or trust the notebook. <br />On GitHub, the HTML representation is unable to render, please try loading this page with nbviewer.org.</b></div><div class=\"sk-container\" hidden><div class=\"sk-item sk-dashed-wrapped\"><div class=\"sk-label-container\"><div class=\"sk-label sk-toggleable\"><input class=\"sk-toggleable__control sk-hidden--visually\" id=\"sk-estimator-id-142\" type=\"checkbox\" ><label for=\"sk-estimator-id-142\" class=\"sk-toggleable__label sk-toggleable__label-arrow\">GridSearchCV</label><div class=\"sk-toggleable__content\"><pre>GridSearchCV(cv=5,\n",
       "             estimator=Pipeline(steps=[(&#x27;tvec&#x27;, TfidfVectorizer()),\n",
       "                                       (&#x27;ros&#x27;,\n",
       "                                        RandomOverSampler(sampling_strategy=&#x27;minority&#x27;)),\n",
       "                                       (&#x27;nb&#x27;, MultinomialNB())]),\n",
       "             param_grid={&#x27;nb__alpha&#x27;: [0.001, 0.01, 0.1, 0.5, 1],\n",
       "                         &#x27;tvec__max_df&#x27;: [0.9, 0.95], &#x27;tvec__min_df&#x27;: [10],\n",
       "                         &#x27;tvec__ngram_range&#x27;: [(1, 1), (1, 2)]},\n",
       "             scoring=&#x27;f1_micro&#x27;)</pre></div></div></div><div class=\"sk-parallel\"><div class=\"sk-parallel-item\"><div class=\"sk-item\"><div class=\"sk-label-container\"><div class=\"sk-label sk-toggleable\"><input class=\"sk-toggleable__control sk-hidden--visually\" id=\"sk-estimator-id-143\" type=\"checkbox\" ><label for=\"sk-estimator-id-143\" class=\"sk-toggleable__label sk-toggleable__label-arrow\">estimator: Pipeline</label><div class=\"sk-toggleable__content\"><pre>Pipeline(steps=[(&#x27;tvec&#x27;, TfidfVectorizer()),\n",
       "                (&#x27;ros&#x27;, RandomOverSampler(sampling_strategy=&#x27;minority&#x27;)),\n",
       "                (&#x27;nb&#x27;, MultinomialNB())])</pre></div></div></div><div class=\"sk-serial\"><div class=\"sk-item\"><div class=\"sk-serial\"><div class=\"sk-item\"><div class=\"sk-estimator sk-toggleable\"><input class=\"sk-toggleable__control sk-hidden--visually\" id=\"sk-estimator-id-144\" type=\"checkbox\" ><label for=\"sk-estimator-id-144\" class=\"sk-toggleable__label sk-toggleable__label-arrow\">TfidfVectorizer</label><div class=\"sk-toggleable__content\"><pre>TfidfVectorizer()</pre></div></div></div><div class=\"sk-item\"><div class=\"sk-estimator sk-toggleable\"><input class=\"sk-toggleable__control sk-hidden--visually\" id=\"sk-estimator-id-145\" type=\"checkbox\" ><label for=\"sk-estimator-id-145\" class=\"sk-toggleable__label sk-toggleable__label-arrow\">RandomOverSampler</label><div class=\"sk-toggleable__content\"><pre>RandomOverSampler(sampling_strategy=&#x27;minority&#x27;)</pre></div></div></div><div class=\"sk-item\"><div class=\"sk-estimator sk-toggleable\"><input class=\"sk-toggleable__control sk-hidden--visually\" id=\"sk-estimator-id-146\" type=\"checkbox\" ><label for=\"sk-estimator-id-146\" class=\"sk-toggleable__label sk-toggleable__label-arrow\">MultinomialNB</label><div class=\"sk-toggleable__content\"><pre>MultinomialNB()</pre></div></div></div></div></div></div></div></div></div></div></div></div>"
      ],
      "text/plain": [
       "GridSearchCV(cv=5,\n",
       "             estimator=Pipeline(steps=[('tvec', TfidfVectorizer()),\n",
       "                                       ('ros',\n",
       "                                        RandomOverSampler(sampling_strategy='minority')),\n",
       "                                       ('nb', MultinomialNB())]),\n",
       "             param_grid={'nb__alpha': [0.001, 0.01, 0.1, 0.5, 1],\n",
       "                         'tvec__max_df': [0.9, 0.95], 'tvec__min_df': [10],\n",
       "                         'tvec__ngram_range': [(1, 1), (1, 2)]},\n",
       "             scoring='f1_micro')"
      ]
     },
     "execution_count": 233,
     "metadata": {},
     "output_type": "execute_result"
    }
   ],
   "source": [
    "#Train model\n",
    "gs2.fit(X_train,y_train)"
   ]
  },
  {
   "cell_type": "markdown",
   "id": "b145bf1d-ce6e-4291-ad26-7faf31acb987",
   "metadata": {},
   "source": [
    "#### 2.2.2 Evaluation"
   ]
  },
  {
   "cell_type": "code",
   "execution_count": 322,
   "id": "ff0b90bf-9ad0-49da-a0ff-9facfdf1b9c3",
   "metadata": {},
   "outputs": [
    {
     "name": "stdout",
     "output_type": "stream",
     "text": [
      "Train scores\n",
      "--------------------------\n",
      "F1 score: 0.7483\n",
      "--------------------------\n",
      "Recall score: 0.7414\n",
      "Precision score: 0.7726\n",
      "Accuracy score: 0.7414\n"
     ]
    }
   ],
   "source": [
    "train_scores(gs2, X_train, y_train)"
   ]
  },
  {
   "cell_type": "code",
   "execution_count": 323,
   "id": "59866e09-0ecf-4324-8141-623f7a3dfc9f",
   "metadata": {},
   "outputs": [
    {
     "name": "stdout",
     "output_type": "stream",
     "text": [
      "Test scores\n",
      "--------------------------\n",
      "F1 score: 0.7005\n",
      "--------------------------\n",
      "Recall score: 0.6916\n",
      "Precision score: 0.7207\n",
      "Accuracy score: 0.6916\n"
     ]
    }
   ],
   "source": [
    "test_scores(gs2, X_test, y_test)"
   ]
  },
  {
   "cell_type": "code",
   "execution_count": 236,
   "id": "17b64c20-69fb-4161-aac0-cc3fadfbbdda",
   "metadata": {},
   "outputs": [
    {
     "data": {
      "image/png": "[encoded data removed]",
      "text/plain": [
       "<Figure size 640x480 with 2 Axes>"
      ]
     },
     "metadata": {},
     "output_type": "display_data"
    }
   ],
   "source": [
    "class_labels = ['negative', 'neutral', 'positive']\n",
    "pred = gs2.predict(X_test)\n",
    "\n",
    "# Create the confusion matrix\n",
    "cm = confusion_matrix(y_test, pred)\n",
    "\n",
    "# Create the ConfusionMatrixDisplay with display_labels\n",
    "disp = ConfusionMatrixDisplay(confusion_matrix=cm, display_labels=class_labels)\n",
    "\n",
    "# Plot the confusion matrix\n",
    "disp.plot()\n",
    "plt.show()"
   ]
  },
  {
   "cell_type": "markdown",
   "id": "27b41627-66ef-407f-b74c-e2ba1a128c6c",
   "metadata": {},
   "source": [
    "*Evaluation of Model 2: This was mildly better than Model 1, with a stronger F1 test score.*"
   ]
  },
  {
   "cell_type": "markdown",
   "id": "4db4bc43-8f09-4ba3-924c-469fd3df53ad",
   "metadata": {},
   "source": [
    "### 2.3 Model 3: SMOTE + TF-IDF vectorizer + Multinomial Naive Bayes Model"
   ]
  },
  {
   "cell_type": "markdown",
   "id": "f0e4c57a-c55e-49cb-a4a0-d363df45545a",
   "metadata": {},
   "source": [
    "#### 2.3.1 Modeling"
   ]
  },
  {
   "cell_type": "markdown",
   "id": "be0e3620-d7b4-4fe3-bd00-d3c444dc29d5",
   "metadata": {},
   "source": [
    "Now, we will attempt to use SMOTE for our next model to see if there are any increases in performance, on top of the RandomOverSampler."
   ]
  },
  {
   "cell_type": "code",
   "execution_count": 237,
   "id": "4697e82a-c364-4899-86cb-46c246213425",
   "metadata": {},
   "outputs": [],
   "source": [
    "#Instantiate pipeline \n",
    "pipe = ImblearnPipeline([('tvec', TfidfVectorizer()),\n",
    "                         ('smote', SMOTE(sampling_strategy='auto', random_state=42, k_neighbors=3)),\n",
    "                         ('nb', MultinomialNB())])"
   ]
  },
  {
   "cell_type": "code",
   "execution_count": 243,
   "id": "fa61155e-ed3d-4e77-b5b5-ae6d7ca32eda",
   "metadata": {},
   "outputs": [],
   "source": [
    "#Setting pipe parameters\n",
    "pipe_params={'tvec__min_df': [9],\n",
    "             'tvec__max_df': [0.9, 0.95],\n",
    "             'tvec__ngram_range': [(1,1), (1,2)],\n",
    "             'nb__alpha': [0.01, 0.1, 0.5, 1, 5]}"
   ]
  },
  {
   "cell_type": "code",
   "execution_count": 244,
   "id": "4da2e8b1-5746-4ddf-bee9-ffb0e470fb19",
   "metadata": {},
   "outputs": [],
   "source": [
    "#Instantiate Gridsearch\n",
    "gs3=GridSearchCV(pipe,\n",
    "                param_grid=pipe_params,\n",
    "                scoring = 'f1_micro',\n",
    "                cv=5)"
   ]
  },
  {
   "cell_type": "code",
   "execution_count": 245,
   "id": "319a66dd-f2c3-4893-a67e-aa43196e6c06",
   "metadata": {},
   "outputs": [
    {
     "data": {
      "text/html": [
       "<style>#sk-container-id-34 {color: black;}#sk-container-id-34 pre{padding: 0;}#sk-container-id-34 div.sk-toggleable {background-color: white;}#sk-container-id-34 label.sk-toggleable__label {cursor: pointer;display: block;width: 100%;margin-bottom: 0;padding: 0.3em;box-sizing: border-box;text-align: center;}#sk-container-id-34 label.sk-toggleable__label-arrow:before {content: \"▸\";float: left;margin-right: 0.25em;color: #696969;}#sk-container-id-34 label.sk-toggleable__label-arrow:hover:before {color: black;}#sk-container-id-34 div.sk-estimator:hover label.sk-toggleable__label-arrow:before {color: black;}#sk-container-id-34 div.sk-toggleable__content {max-height: 0;max-width: 0;overflow: hidden;text-align: left;background-color: #f0f8ff;}#sk-container-id-34 div.sk-toggleable__content pre {margin: 0.2em;color: black;border-radius: 0.25em;background-color: #f0f8ff;}#sk-container-id-34 input.sk-toggleable__control:checked~div.sk-toggleable__content {max-height: 200px;max-width: 100%;overflow: auto;}#sk-container-id-34 input.sk-toggleable__control:checked~label.sk-toggleable__label-arrow:before {content: \"▾\";}#sk-container-id-34 div.sk-estimator input.sk-toggleable__control:checked~label.sk-toggleable__label {background-color: #d4ebff;}#sk-container-id-34 div.sk-label input.sk-toggleable__control:checked~label.sk-toggleable__label {background-color: #d4ebff;}#sk-container-id-34 input.sk-hidden--visually {border: 0;clip: rect(1px 1px 1px 1px);clip: rect(1px, 1px, 1px, 1px);height: 1px;margin: -1px;overflow: hidden;padding: 0;position: absolute;width: 1px;}#sk-container-id-34 div.sk-estimator {font-family: monospace;background-color: #f0f8ff;border: 1px dotted black;border-radius: 0.25em;box-sizing: border-box;margin-bottom: 0.5em;}#sk-container-id-34 div.sk-estimator:hover {background-color: #d4ebff;}#sk-container-id-34 div.sk-parallel-item::after {content: \"\";width: 100%;border-bottom: 1px solid gray;flex-grow: 1;}#sk-container-id-34 div.sk-label:hover label.sk-toggleable__label {background-color: #d4ebff;}#sk-container-id-34 div.sk-serial::before {content: \"\";position: absolute;border-left: 1px solid gray;box-sizing: border-box;top: 0;bottom: 0;left: 50%;z-index: 0;}#sk-container-id-34 div.sk-serial {display: flex;flex-direction: column;align-items: center;background-color: white;padding-right: 0.2em;padding-left: 0.2em;position: relative;}#sk-container-id-34 div.sk-item {position: relative;z-index: 1;}#sk-container-id-34 div.sk-parallel {display: flex;align-items: stretch;justify-content: center;background-color: white;position: relative;}#sk-container-id-34 div.sk-item::before, #sk-container-id-34 div.sk-parallel-item::before {content: \"\";position: absolute;border-left: 1px solid gray;box-sizing: border-box;top: 0;bottom: 0;left: 50%;z-index: -1;}#sk-container-id-34 div.sk-parallel-item {display: flex;flex-direction: column;z-index: 1;position: relative;background-color: white;}#sk-container-id-34 div.sk-parallel-item:first-child::after {align-self: flex-end;width: 50%;}#sk-container-id-34 div.sk-parallel-item:last-child::after {align-self: flex-start;width: 50%;}#sk-container-id-34 div.sk-parallel-item:only-child::after {width: 0;}#sk-container-id-34 div.sk-dashed-wrapped {border: 1px dashed gray;margin: 0 0.4em 0.5em 0.4em;box-sizing: border-box;padding-bottom: 0.4em;background-color: white;}#sk-container-id-34 div.sk-label label {font-family: monospace;font-weight: bold;display: inline-block;line-height: 1.2em;}#sk-container-id-34 div.sk-label-container {text-align: center;}#sk-container-id-34 div.sk-container {/* jupyter's `normalize.less` sets `[hidden] { display: none; }` but bootstrap.min.css set `[hidden] { display: none !important; }` so we also need the `!important` here to be able to override the default hidden behavior on the sphinx rendered scikit-learn.org. See: https://github.com/scikit-learn/scikit-learn/issues/21755 */display: inline-block !important;position: relative;}#sk-container-id-34 div.sk-text-repr-fallback {display: none;}</style><div id=\"sk-container-id-34\" class=\"sk-top-container\"><div class=\"sk-text-repr-fallback\"><pre>GridSearchCV(cv=5,\n",
       "             estimator=Pipeline(steps=[(&#x27;tvec&#x27;, TfidfVectorizer()),\n",
       "                                       (&#x27;smote&#x27;,\n",
       "                                        SMOTE(k_neighbors=3, random_state=42)),\n",
       "                                       (&#x27;nb&#x27;, MultinomialNB())]),\n",
       "             param_grid={&#x27;nb__alpha&#x27;: [0.01, 0.1, 0.5, 1, 5],\n",
       "                         &#x27;tvec__max_df&#x27;: [0.9, 0.95], &#x27;tvec__min_df&#x27;: [9],\n",
       "                         &#x27;tvec__ngram_range&#x27;: [(1, 1), (1, 2)]},\n",
       "             scoring=&#x27;f1_micro&#x27;)</pre><b>In a Jupyter environment, please rerun this cell to show the HTML representation or trust the notebook. <br />On GitHub, the HTML representation is unable to render, please try loading this page with nbviewer.org.</b></div><div class=\"sk-container\" hidden><div class=\"sk-item sk-dashed-wrapped\"><div class=\"sk-label-container\"><div class=\"sk-label sk-toggleable\"><input class=\"sk-toggleable__control sk-hidden--visually\" id=\"sk-estimator-id-152\" type=\"checkbox\" ><label for=\"sk-estimator-id-152\" class=\"sk-toggleable__label sk-toggleable__label-arrow\">GridSearchCV</label><div class=\"sk-toggleable__content\"><pre>GridSearchCV(cv=5,\n",
       "             estimator=Pipeline(steps=[(&#x27;tvec&#x27;, TfidfVectorizer()),\n",
       "                                       (&#x27;smote&#x27;,\n",
       "                                        SMOTE(k_neighbors=3, random_state=42)),\n",
       "                                       (&#x27;nb&#x27;, MultinomialNB())]),\n",
       "             param_grid={&#x27;nb__alpha&#x27;: [0.01, 0.1, 0.5, 1, 5],\n",
       "                         &#x27;tvec__max_df&#x27;: [0.9, 0.95], &#x27;tvec__min_df&#x27;: [9],\n",
       "                         &#x27;tvec__ngram_range&#x27;: [(1, 1), (1, 2)]},\n",
       "             scoring=&#x27;f1_micro&#x27;)</pre></div></div></div><div class=\"sk-parallel\"><div class=\"sk-parallel-item\"><div class=\"sk-item\"><div class=\"sk-label-container\"><div class=\"sk-label sk-toggleable\"><input class=\"sk-toggleable__control sk-hidden--visually\" id=\"sk-estimator-id-153\" type=\"checkbox\" ><label for=\"sk-estimator-id-153\" class=\"sk-toggleable__label sk-toggleable__label-arrow\">estimator: Pipeline</label><div class=\"sk-toggleable__content\"><pre>Pipeline(steps=[(&#x27;tvec&#x27;, TfidfVectorizer()),\n",
       "                (&#x27;smote&#x27;, SMOTE(k_neighbors=3, random_state=42)),\n",
       "                (&#x27;nb&#x27;, MultinomialNB())])</pre></div></div></div><div class=\"sk-serial\"><div class=\"sk-item\"><div class=\"sk-serial\"><div class=\"sk-item\"><div class=\"sk-estimator sk-toggleable\"><input class=\"sk-toggleable__control sk-hidden--visually\" id=\"sk-estimator-id-154\" type=\"checkbox\" ><label for=\"sk-estimator-id-154\" class=\"sk-toggleable__label sk-toggleable__label-arrow\">TfidfVectorizer</label><div class=\"sk-toggleable__content\"><pre>TfidfVectorizer()</pre></div></div></div><div class=\"sk-item\"><div class=\"sk-estimator sk-toggleable\"><input class=\"sk-toggleable__control sk-hidden--visually\" id=\"sk-estimator-id-155\" type=\"checkbox\" ><label for=\"sk-estimator-id-155\" class=\"sk-toggleable__label sk-toggleable__label-arrow\">SMOTE</label><div class=\"sk-toggleable__content\"><pre>SMOTE(k_neighbors=3, random_state=42)</pre></div></div></div><div class=\"sk-item\"><div class=\"sk-estimator sk-toggleable\"><input class=\"sk-toggleable__control sk-hidden--visually\" id=\"sk-estimator-id-156\" type=\"checkbox\" ><label for=\"sk-estimator-id-156\" class=\"sk-toggleable__label sk-toggleable__label-arrow\">MultinomialNB</label><div class=\"sk-toggleable__content\"><pre>MultinomialNB()</pre></div></div></div></div></div></div></div></div></div></div></div></div>"
      ],
      "text/plain": [
       "GridSearchCV(cv=5,\n",
       "             estimator=Pipeline(steps=[('tvec', TfidfVectorizer()),\n",
       "                                       ('smote',\n",
       "                                        SMOTE(k_neighbors=3, random_state=42)),\n",
       "                                       ('nb', MultinomialNB())]),\n",
       "             param_grid={'nb__alpha': [0.01, 0.1, 0.5, 1, 5],\n",
       "                         'tvec__max_df': [0.9, 0.95], 'tvec__min_df': [9],\n",
       "                         'tvec__ngram_range': [(1, 1), (1, 2)]},\n",
       "             scoring='f1_micro')"
      ]
     },
     "execution_count": 245,
     "metadata": {},
     "output_type": "execute_result"
    }
   ],
   "source": [
    "#Train model\n",
    "gs3.fit(X_train,y_train)"
   ]
  },
  {
   "cell_type": "markdown",
   "id": "bb22195e-dcf1-4281-ba03-b9cf90ac8b25",
   "metadata": {},
   "source": [
    "#### 2.3.2 Evaluation"
   ]
  },
  {
   "cell_type": "code",
   "execution_count": 324,
   "id": "05d979b6-ee62-4196-a3d3-06145d60168d",
   "metadata": {},
   "outputs": [
    {
     "name": "stdout",
     "output_type": "stream",
     "text": [
      "Train scores\n",
      "--------------------------\n",
      "F1 score: 0.7442\n",
      "--------------------------\n",
      "Recall score: 0.7415\n",
      "Precision score: 0.7575\n",
      "Accuracy score: 0.7415\n"
     ]
    }
   ],
   "source": [
    "train_scores(gs3, X_train, y_train)"
   ]
  },
  {
   "cell_type": "code",
   "execution_count": 325,
   "id": "91f70e50-556e-484d-b878-11187dcd5e23",
   "metadata": {},
   "outputs": [
    {
     "name": "stdout",
     "output_type": "stream",
     "text": [
      "Test scores\n",
      "--------------------------\n",
      "F1 score: 0.6814\n",
      "--------------------------\n",
      "Recall score: 0.6804\n",
      "Precision score: 0.6927\n",
      "Accuracy score: 0.6804\n"
     ]
    }
   ],
   "source": [
    "test_scores(gs3, X_test, y_test)"
   ]
  },
  {
   "cell_type": "code",
   "execution_count": 248,
   "id": "9c173004-b6b6-4f66-9446-bd6fd6e8f3aa",
   "metadata": {},
   "outputs": [
    {
     "data": {
      "image/png": "[encoded data removed]",
      "text/plain": [
       "<Figure size 640x480 with 2 Axes>"
      ]
     },
     "metadata": {},
     "output_type": "display_data"
    }
   ],
   "source": [
    "# Assuming you have a list of sorted class labels\n",
    "class_labels = ['negative', 'neutral', 'positive']\n",
    "#class_labels = gs1.classes_\n",
    "pred = gs3.predict(X_test)\n",
    "# Create the confusion matrix\n",
    "cm = confusion_matrix(y_test, pred)\n",
    "\n",
    "# Create the ConfusionMatrixDisplay with display_labels\n",
    "disp = ConfusionMatrixDisplay(confusion_matrix=cm, display_labels=class_labels)\n",
    "\n",
    "# Plot the confusion matrix\n",
    "disp.plot()\n",
    "plt.show()"
   ]
  },
  {
   "cell_type": "markdown",
   "id": "ac945e92-6f5a-461f-856f-ab33625d0f93",
   "metadata": {},
   "source": [
    "*Evaluation of Model 3: Interestingly, we see stronger test scores for RandomOverSampler.*"
   ]
  },
  {
   "cell_type": "markdown",
   "id": "6905647c-de31-4f52-a03a-a10e6261fdad",
   "metadata": {},
   "source": [
    "### 2.4 Model 4: Undersampling + TF-IDF vectorizer + Multinomial Naive Bayes Model"
   ]
  },
  {
   "cell_type": "markdown",
   "id": "492ef189-91d6-4743-8314-64322160330f",
   "metadata": {},
   "source": [
    "#### 2.4.1 Modeling"
   ]
  },
  {
   "cell_type": "code",
   "execution_count": 249,
   "id": "715c6eb7-8211-489f-bd95-917a371ca59f",
   "metadata": {},
   "outputs": [
    {
     "data": {
      "text/plain": [
       "sentiments\n",
       "positive    12295\n",
       "negative     8779\n",
       "neutral      3605\n",
       "Name: count, dtype: int64"
      ]
     },
     "execution_count": 249,
     "metadata": {},
     "output_type": "execute_result"
    }
   ],
   "source": [
    "# Identifying the sentiment with the lowest value count\n",
    "df['sentiments'].value_counts()"
   ]
  },
  {
   "cell_type": "code",
   "execution_count": 250,
   "id": "5ace31b6-6893-4c70-a7f6-f25605815d0f",
   "metadata": {},
   "outputs": [],
   "source": [
    "# Determine the number of samples in the 'neutral' class\n",
    "neutral_class_size = df[df['sentiments'] == 'neutral'].shape[0]\n",
    "\n",
    "# Undersample other classes to match the 'neutral' class size\n",
    "undersampled_df = df.groupby('sentiments').apply(lambda x: x.sample(neutral_class_size)).reset_index(drop=True)"
   ]
  },
  {
   "cell_type": "code",
   "execution_count": 251,
   "id": "f13cd03d-7daf-4586-87ff-26cf8d8e1602",
   "metadata": {},
   "outputs": [
    {
     "data": {
      "text/plain": [
       "sentiments\n",
       "negative    3605\n",
       "neutral     3605\n",
       "positive    3605\n",
       "Name: count, dtype: int64"
      ]
     },
     "execution_count": 251,
     "metadata": {},
     "output_type": "execute_result"
    }
   ],
   "source": [
    "# Confirming that the value counts of all classes match 'neutral'\n",
    "undersampled_df['sentiments'].value_counts()"
   ]
  },
  {
   "cell_type": "code",
   "execution_count": 252,
   "id": "a1ab673c-5832-4017-b787-77c36c192140",
   "metadata": {},
   "outputs": [],
   "source": [
    "#Assigning X and y variables\n",
    "X=undersampled_df['comment']\n",
    "y=undersampled_df['sentiments']\n",
    "\n",
    "#Splitting the data into train and test datasets\n",
    "X_train, X_test, y_train, y_test = train_test_split(X,\n",
    "                                                    y, \n",
    "                                                    random_state=123, \n",
    "                                                    stratify=y)"
   ]
  },
  {
   "cell_type": "code",
   "execution_count": 253,
   "id": "e6aae797-dd4b-4503-961a-499de5e2ccb4",
   "metadata": {},
   "outputs": [],
   "source": [
    "#Instantiate pipeline \n",
    "pipe = ImblearnPipeline([('tvec', TfidfVectorizer()),\n",
    "                         ('nb', MultinomialNB())])"
   ]
  },
  {
   "cell_type": "code",
   "execution_count": 259,
   "id": "f2c7362e-df46-4396-a464-2685d427834f",
   "metadata": {},
   "outputs": [],
   "source": [
    "#Setting pipe parameters\n",
    "pipe_params={'tvec__min_df': [10],\n",
    "             'tvec__max_df': [0.9, 0.95],\n",
    "             'tvec__ngram_range': [(1,1), (1,2)],\n",
    "             'nb__alpha': [0.001, 0.01, 0.1, 0.5, 1]}"
   ]
  },
  {
   "cell_type": "code",
   "execution_count": 260,
   "id": "1bcab7ec-be52-4b2c-954f-39b92fa045bf",
   "metadata": {},
   "outputs": [],
   "source": [
    "#Instantiate Gridsearch\n",
    "gs4=GridSearchCV(pipe,\n",
    "                param_grid=pipe_params,\n",
    "                scoring = 'f1_micro',\n",
    "                cv=5)"
   ]
  },
  {
   "cell_type": "code",
   "execution_count": 261,
   "id": "aa335fa7-99d9-40f6-9a9a-b5cc72c28929",
   "metadata": {},
   "outputs": [
    {
     "data": {
      "text/html": [
       "<style>#sk-container-id-36 {color: black;}#sk-container-id-36 pre{padding: 0;}#sk-container-id-36 div.sk-toggleable {background-color: white;}#sk-container-id-36 label.sk-toggleable__label {cursor: pointer;display: block;width: 100%;margin-bottom: 0;padding: 0.3em;box-sizing: border-box;text-align: center;}#sk-container-id-36 label.sk-toggleable__label-arrow:before {content: \"▸\";float: left;margin-right: 0.25em;color: #696969;}#sk-container-id-36 label.sk-toggleable__label-arrow:hover:before {color: black;}#sk-container-id-36 div.sk-estimator:hover label.sk-toggleable__label-arrow:before {color: black;}#sk-container-id-36 div.sk-toggleable__content {max-height: 0;max-width: 0;overflow: hidden;text-align: left;background-color: #f0f8ff;}#sk-container-id-36 div.sk-toggleable__content pre {margin: 0.2em;color: black;border-radius: 0.25em;background-color: #f0f8ff;}#sk-container-id-36 input.sk-toggleable__control:checked~div.sk-toggleable__content {max-height: 200px;max-width: 100%;overflow: auto;}#sk-container-id-36 input.sk-toggleable__control:checked~label.sk-toggleable__label-arrow:before {content: \"▾\";}#sk-container-id-36 div.sk-estimator input.sk-toggleable__control:checked~label.sk-toggleable__label {background-color: #d4ebff;}#sk-container-id-36 div.sk-label input.sk-toggleable__control:checked~label.sk-toggleable__label {background-color: #d4ebff;}#sk-container-id-36 input.sk-hidden--visually {border: 0;clip: rect(1px 1px 1px 1px);clip: rect(1px, 1px, 1px, 1px);height: 1px;margin: -1px;overflow: hidden;padding: 0;position: absolute;width: 1px;}#sk-container-id-36 div.sk-estimator {font-family: monospace;background-color: #f0f8ff;border: 1px dotted black;border-radius: 0.25em;box-sizing: border-box;margin-bottom: 0.5em;}#sk-container-id-36 div.sk-estimator:hover {background-color: #d4ebff;}#sk-container-id-36 div.sk-parallel-item::after {content: \"\";width: 100%;border-bottom: 1px solid gray;flex-grow: 1;}#sk-container-id-36 div.sk-label:hover label.sk-toggleable__label {background-color: #d4ebff;}#sk-container-id-36 div.sk-serial::before {content: \"\";position: absolute;border-left: 1px solid gray;box-sizing: border-box;top: 0;bottom: 0;left: 50%;z-index: 0;}#sk-container-id-36 div.sk-serial {display: flex;flex-direction: column;align-items: center;background-color: white;padding-right: 0.2em;padding-left: 0.2em;position: relative;}#sk-container-id-36 div.sk-item {position: relative;z-index: 1;}#sk-container-id-36 div.sk-parallel {display: flex;align-items: stretch;justify-content: center;background-color: white;position: relative;}#sk-container-id-36 div.sk-item::before, #sk-container-id-36 div.sk-parallel-item::before {content: \"\";position: absolute;border-left: 1px solid gray;box-sizing: border-box;top: 0;bottom: 0;left: 50%;z-index: -1;}#sk-container-id-36 div.sk-parallel-item {display: flex;flex-direction: column;z-index: 1;position: relative;background-color: white;}#sk-container-id-36 div.sk-parallel-item:first-child::after {align-self: flex-end;width: 50%;}#sk-container-id-36 div.sk-parallel-item:last-child::after {align-self: flex-start;width: 50%;}#sk-container-id-36 div.sk-parallel-item:only-child::after {width: 0;}#sk-container-id-36 div.sk-dashed-wrapped {border: 1px dashed gray;margin: 0 0.4em 0.5em 0.4em;box-sizing: border-box;padding-bottom: 0.4em;background-color: white;}#sk-container-id-36 div.sk-label label {font-family: monospace;font-weight: bold;display: inline-block;line-height: 1.2em;}#sk-container-id-36 div.sk-label-container {text-align: center;}#sk-container-id-36 div.sk-container {/* jupyter's `normalize.less` sets `[hidden] { display: none; }` but bootstrap.min.css set `[hidden] { display: none !important; }` so we also need the `!important` here to be able to override the default hidden behavior on the sphinx rendered scikit-learn.org. See: https://github.com/scikit-learn/scikit-learn/issues/21755 */display: inline-block !important;position: relative;}#sk-container-id-36 div.sk-text-repr-fallback {display: none;}</style><div id=\"sk-container-id-36\" class=\"sk-top-container\"><div class=\"sk-text-repr-fallback\"><pre>GridSearchCV(cv=5,\n",
       "             estimator=Pipeline(steps=[(&#x27;tvec&#x27;, TfidfVectorizer()),\n",
       "                                       (&#x27;nb&#x27;, MultinomialNB())]),\n",
       "             param_grid={&#x27;nb__alpha&#x27;: [0.001, 0.01, 0.1, 0.5, 1],\n",
       "                         &#x27;tvec__max_df&#x27;: [0.9, 0.95], &#x27;tvec__min_df&#x27;: [10],\n",
       "                         &#x27;tvec__ngram_range&#x27;: [(1, 1), (1, 2)]},\n",
       "             scoring=&#x27;f1_micro&#x27;)</pre><b>In a Jupyter environment, please rerun this cell to show the HTML representation or trust the notebook. <br />On GitHub, the HTML representation is unable to render, please try loading this page with nbviewer.org.</b></div><div class=\"sk-container\" hidden><div class=\"sk-item sk-dashed-wrapped\"><div class=\"sk-label-container\"><div class=\"sk-label sk-toggleable\"><input class=\"sk-toggleable__control sk-hidden--visually\" id=\"sk-estimator-id-161\" type=\"checkbox\" ><label for=\"sk-estimator-id-161\" class=\"sk-toggleable__label sk-toggleable__label-arrow\">GridSearchCV</label><div class=\"sk-toggleable__content\"><pre>GridSearchCV(cv=5,\n",
       "             estimator=Pipeline(steps=[(&#x27;tvec&#x27;, TfidfVectorizer()),\n",
       "                                       (&#x27;nb&#x27;, MultinomialNB())]),\n",
       "             param_grid={&#x27;nb__alpha&#x27;: [0.001, 0.01, 0.1, 0.5, 1],\n",
       "                         &#x27;tvec__max_df&#x27;: [0.9, 0.95], &#x27;tvec__min_df&#x27;: [10],\n",
       "                         &#x27;tvec__ngram_range&#x27;: [(1, 1), (1, 2)]},\n",
       "             scoring=&#x27;f1_micro&#x27;)</pre></div></div></div><div class=\"sk-parallel\"><div class=\"sk-parallel-item\"><div class=\"sk-item\"><div class=\"sk-label-container\"><div class=\"sk-label sk-toggleable\"><input class=\"sk-toggleable__control sk-hidden--visually\" id=\"sk-estimator-id-162\" type=\"checkbox\" ><label for=\"sk-estimator-id-162\" class=\"sk-toggleable__label sk-toggleable__label-arrow\">estimator: Pipeline</label><div class=\"sk-toggleable__content\"><pre>Pipeline(steps=[(&#x27;tvec&#x27;, TfidfVectorizer()), (&#x27;nb&#x27;, MultinomialNB())])</pre></div></div></div><div class=\"sk-serial\"><div class=\"sk-item\"><div class=\"sk-serial\"><div class=\"sk-item\"><div class=\"sk-estimator sk-toggleable\"><input class=\"sk-toggleable__control sk-hidden--visually\" id=\"sk-estimator-id-163\" type=\"checkbox\" ><label for=\"sk-estimator-id-163\" class=\"sk-toggleable__label sk-toggleable__label-arrow\">TfidfVectorizer</label><div class=\"sk-toggleable__content\"><pre>TfidfVectorizer()</pre></div></div></div><div class=\"sk-item\"><div class=\"sk-estimator sk-toggleable\"><input class=\"sk-toggleable__control sk-hidden--visually\" id=\"sk-estimator-id-164\" type=\"checkbox\" ><label for=\"sk-estimator-id-164\" class=\"sk-toggleable__label sk-toggleable__label-arrow\">MultinomialNB</label><div class=\"sk-toggleable__content\"><pre>MultinomialNB()</pre></div></div></div></div></div></div></div></div></div></div></div></div>"
      ],
      "text/plain": [
       "GridSearchCV(cv=5,\n",
       "             estimator=Pipeline(steps=[('tvec', TfidfVectorizer()),\n",
       "                                       ('nb', MultinomialNB())]),\n",
       "             param_grid={'nb__alpha': [0.001, 0.01, 0.1, 0.5, 1],\n",
       "                         'tvec__max_df': [0.9, 0.95], 'tvec__min_df': [10],\n",
       "                         'tvec__ngram_range': [(1, 1), (1, 2)]},\n",
       "             scoring='f1_micro')"
      ]
     },
     "execution_count": 261,
     "metadata": {},
     "output_type": "execute_result"
    }
   ],
   "source": [
    "#Train model\n",
    "gs4.fit(X_train,y_train)"
   ]
  },
  {
   "cell_type": "markdown",
   "id": "25e950aa-c495-4241-a2b9-2c7d6c009542",
   "metadata": {},
   "source": [
    "#### 2.4.2 Evaluation"
   ]
  },
  {
   "cell_type": "code",
   "execution_count": 326,
   "id": "3efe9ee2-e2f0-4df4-aa39-e93a2226a57d",
   "metadata": {},
   "outputs": [
    {
     "name": "stdout",
     "output_type": "stream",
     "text": [
      "Train scores\n",
      "--------------------------\n",
      "F1 score: 0.673\n",
      "--------------------------\n",
      "Recall score: 0.6675\n",
      "Precision score: 0.6991\n",
      "Accuracy score: 0.6675\n"
     ]
    }
   ],
   "source": [
    "train_scores(gs4, X_train, y_train)"
   ]
  },
  {
   "cell_type": "code",
   "execution_count": 327,
   "id": "ba1f403a-4c93-41e7-a708-a09edfdfd620",
   "metadata": {},
   "outputs": [
    {
     "name": "stdout",
     "output_type": "stream",
     "text": [
      "Test scores\n",
      "--------------------------\n",
      "F1 score: 0.6736\n",
      "--------------------------\n",
      "Recall score: 0.6676\n",
      "Precision score: 0.7018\n",
      "Accuracy score: 0.6676\n"
     ]
    }
   ],
   "source": [
    "test_scores(gs4, X_test, y_test)"
   ]
  },
  {
   "cell_type": "code",
   "execution_count": 264,
   "id": "7f5889f7-70ab-44f5-9484-8e3ca0a351b4",
   "metadata": {},
   "outputs": [
    {
     "data": {
      "image/png": "[encoded data removed]",
      "text/plain": [
       "<Figure size 640x480 with 2 Axes>"
      ]
     },
     "metadata": {},
     "output_type": "display_data"
    }
   ],
   "source": [
    "class_labels = ['negative', 'neutral', 'positive']\n",
    "pred = gs4.predict(X_test)\n",
    "\n",
    "# Create the confusion matrix\n",
    "cm = confusion_matrix(y_test, pred)\n",
    "\n",
    "# Create the ConfusionMatrixDisplay with display_labels\n",
    "disp = ConfusionMatrixDisplay(confusion_matrix=cm, display_labels=class_labels)\n",
    "\n",
    "# Plot the confusion matrix\n",
    "disp.plot()\n",
    "plt.show()"
   ]
  },
  {
   "cell_type": "markdown",
   "id": "a5a04dc4-426c-45a7-bddd-3a6873426422",
   "metadata": {},
   "source": [
    "*Evaluation of Model 4: There is little to no overfitting, but the scores are poorer. Thus, we will use RandomOverSampler for the remaining models.*"
   ]
  },
  {
   "cell_type": "markdown",
   "id": "19af3614-23c3-4b3e-9529-3ae581e06e12",
   "metadata": {},
   "source": [
    "### 2.5 Model 5: RandomOverSampler + TF-IDF vectorizer + Random Forest Model"
   ]
  },
  {
   "cell_type": "markdown",
   "id": "019555d5-16fc-4afc-8beb-05ab287f8c71",
   "metadata": {},
   "source": [
    "#### 2.5.1 Modeling"
   ]
  },
  {
   "cell_type": "code",
   "execution_count": 265,
   "id": "9d023613-bce2-4e74-ba7c-4484e73bd3e2",
   "metadata": {},
   "outputs": [],
   "source": [
    "#Assigning X and y variables\n",
    "X=df['comment']\n",
    "y=df['sentiments']\n",
    "\n",
    "#Splitting the data into train and test datasets\n",
    "X_train, X_test, y_train, y_test = train_test_split(X,\n",
    "                                                    y, \n",
    "                                                    random_state=123, \n",
    "                                                    stratify=y)"
   ]
  },
  {
   "cell_type": "code",
   "execution_count": 266,
   "id": "58fb3356-72a8-456a-93ae-6c8345240627",
   "metadata": {},
   "outputs": [],
   "source": [
    "#Instantiate pipeline \n",
    "pipe = ImblearnPipeline([('tvec', TfidfVectorizer()), \n",
    "                         ('ros', RandomOverSampler(sampling_strategy='minority')),\n",
    "                         ('rf', RandomForestClassifier())])"
   ]
  },
  {
   "cell_type": "code",
   "execution_count": 267,
   "id": "614ef2ca-9eb7-4958-b74d-0e773b4d2951",
   "metadata": {},
   "outputs": [],
   "source": [
    "pipe_params = {\n",
    "    'tvec__min_df': [10],\n",
    "    'tvec__max_df': [0.90, 0.95],\n",
    "    'tvec__ngram_range': [(1,1), (1,2)],\n",
    "    'rf__n_estimators': [150, 200, 250, 300],\n",
    "    'rf__max_depth': [15, 20, 25, 30],\n",
    "    'rf__class_weight': ['balanced']  # or specify a dictionary with class weights\n",
    "}"
   ]
  },
  {
   "cell_type": "code",
   "execution_count": 268,
   "id": "d9a7f054-59dc-4c5f-af84-1b7e6e4c14c6",
   "metadata": {},
   "outputs": [],
   "source": [
    "#Instantiate Gridsearch\n",
    "gs5=GridSearchCV(pipe,\n",
    "                param_grid=pipe_params,\n",
    "                scoring = 'f1_micro',\n",
    "                cv=5)"
   ]
  },
  {
   "cell_type": "code",
   "execution_count": 269,
   "id": "b94237c6-ce80-4141-89e6-b860d339e2e1",
   "metadata": {},
   "outputs": [
    {
     "data": {
      "text/html": [
       "<style>#sk-container-id-37 {color: black;}#sk-container-id-37 pre{padding: 0;}#sk-container-id-37 div.sk-toggleable {background-color: white;}#sk-container-id-37 label.sk-toggleable__label {cursor: pointer;display: block;width: 100%;margin-bottom: 0;padding: 0.3em;box-sizing: border-box;text-align: center;}#sk-container-id-37 label.sk-toggleable__label-arrow:before {content: \"▸\";float: left;margin-right: 0.25em;color: #696969;}#sk-container-id-37 label.sk-toggleable__label-arrow:hover:before {color: black;}#sk-container-id-37 div.sk-estimator:hover label.sk-toggleable__label-arrow:before {color: black;}#sk-container-id-37 div.sk-toggleable__content {max-height: 0;max-width: 0;overflow: hidden;text-align: left;background-color: #f0f8ff;}#sk-container-id-37 div.sk-toggleable__content pre {margin: 0.2em;color: black;border-radius: 0.25em;background-color: #f0f8ff;}#sk-container-id-37 input.sk-toggleable__control:checked~div.sk-toggleable__content {max-height: 200px;max-width: 100%;overflow: auto;}#sk-container-id-37 input.sk-toggleable__control:checked~label.sk-toggleable__label-arrow:before {content: \"▾\";}#sk-container-id-37 div.sk-estimator input.sk-toggleable__control:checked~label.sk-toggleable__label {background-color: #d4ebff;}#sk-container-id-37 div.sk-label input.sk-toggleable__control:checked~label.sk-toggleable__label {background-color: #d4ebff;}#sk-container-id-37 input.sk-hidden--visually {border: 0;clip: rect(1px 1px 1px 1px);clip: rect(1px, 1px, 1px, 1px);height: 1px;margin: -1px;overflow: hidden;padding: 0;position: absolute;width: 1px;}#sk-container-id-37 div.sk-estimator {font-family: monospace;background-color: #f0f8ff;border: 1px dotted black;border-radius: 0.25em;box-sizing: border-box;margin-bottom: 0.5em;}#sk-container-id-37 div.sk-estimator:hover {background-color: #d4ebff;}#sk-container-id-37 div.sk-parallel-item::after {content: \"\";width: 100%;border-bottom: 1px solid gray;flex-grow: 1;}#sk-container-id-37 div.sk-label:hover label.sk-toggleable__label {background-color: #d4ebff;}#sk-container-id-37 div.sk-serial::before {content: \"\";position: absolute;border-left: 1px solid gray;box-sizing: border-box;top: 0;bottom: 0;left: 50%;z-index: 0;}#sk-container-id-37 div.sk-serial {display: flex;flex-direction: column;align-items: center;background-color: white;padding-right: 0.2em;padding-left: 0.2em;position: relative;}#sk-container-id-37 div.sk-item {position: relative;z-index: 1;}#sk-container-id-37 div.sk-parallel {display: flex;align-items: stretch;justify-content: center;background-color: white;position: relative;}#sk-container-id-37 div.sk-item::before, #sk-container-id-37 div.sk-parallel-item::before {content: \"\";position: absolute;border-left: 1px solid gray;box-sizing: border-box;top: 0;bottom: 0;left: 50%;z-index: -1;}#sk-container-id-37 div.sk-parallel-item {display: flex;flex-direction: column;z-index: 1;position: relative;background-color: white;}#sk-container-id-37 div.sk-parallel-item:first-child::after {align-self: flex-end;width: 50%;}#sk-container-id-37 div.sk-parallel-item:last-child::after {align-self: flex-start;width: 50%;}#sk-container-id-37 div.sk-parallel-item:only-child::after {width: 0;}#sk-container-id-37 div.sk-dashed-wrapped {border: 1px dashed gray;margin: 0 0.4em 0.5em 0.4em;box-sizing: border-box;padding-bottom: 0.4em;background-color: white;}#sk-container-id-37 div.sk-label label {font-family: monospace;font-weight: bold;display: inline-block;line-height: 1.2em;}#sk-container-id-37 div.sk-label-container {text-align: center;}#sk-container-id-37 div.sk-container {/* jupyter's `normalize.less` sets `[hidden] { display: none; }` but bootstrap.min.css set `[hidden] { display: none !important; }` so we also need the `!important` here to be able to override the default hidden behavior on the sphinx rendered scikit-learn.org. See: https://github.com/scikit-learn/scikit-learn/issues/21755 */display: inline-block !important;position: relative;}#sk-container-id-37 div.sk-text-repr-fallback {display: none;}</style><div id=\"sk-container-id-37\" class=\"sk-top-container\"><div class=\"sk-text-repr-fallback\"><pre>GridSearchCV(cv=5,\n",
       "             estimator=Pipeline(steps=[(&#x27;tvec&#x27;, TfidfVectorizer()),\n",
       "                                       (&#x27;ros&#x27;,\n",
       "                                        RandomOverSampler(sampling_strategy=&#x27;minority&#x27;)),\n",
       "                                       (&#x27;rf&#x27;, RandomForestClassifier())]),\n",
       "             param_grid={&#x27;rf__class_weight&#x27;: [&#x27;balanced&#x27;],\n",
       "                         &#x27;rf__max_depth&#x27;: [15, 20, 25, 30],\n",
       "                         &#x27;rf__n_estimators&#x27;: [150, 200, 250, 300],\n",
       "                         &#x27;tvec__max_df&#x27;: [0.9, 0.95], &#x27;tvec__min_df&#x27;: [10],\n",
       "                         &#x27;tvec__ngram_range&#x27;: [(1, 1), (1, 2)]},\n",
       "             scoring=&#x27;f1_micro&#x27;)</pre><b>In a Jupyter environment, please rerun this cell to show the HTML representation or trust the notebook. <br />On GitHub, the HTML representation is unable to render, please try loading this page with nbviewer.org.</b></div><div class=\"sk-container\" hidden><div class=\"sk-item sk-dashed-wrapped\"><div class=\"sk-label-container\"><div class=\"sk-label sk-toggleable\"><input class=\"sk-toggleable__control sk-hidden--visually\" id=\"sk-estimator-id-165\" type=\"checkbox\" ><label for=\"sk-estimator-id-165\" class=\"sk-toggleable__label sk-toggleable__label-arrow\">GridSearchCV</label><div class=\"sk-toggleable__content\"><pre>GridSearchCV(cv=5,\n",
       "             estimator=Pipeline(steps=[(&#x27;tvec&#x27;, TfidfVectorizer()),\n",
       "                                       (&#x27;ros&#x27;,\n",
       "                                        RandomOverSampler(sampling_strategy=&#x27;minority&#x27;)),\n",
       "                                       (&#x27;rf&#x27;, RandomForestClassifier())]),\n",
       "             param_grid={&#x27;rf__class_weight&#x27;: [&#x27;balanced&#x27;],\n",
       "                         &#x27;rf__max_depth&#x27;: [15, 20, 25, 30],\n",
       "                         &#x27;rf__n_estimators&#x27;: [150, 200, 250, 300],\n",
       "                         &#x27;tvec__max_df&#x27;: [0.9, 0.95], &#x27;tvec__min_df&#x27;: [10],\n",
       "                         &#x27;tvec__ngram_range&#x27;: [(1, 1), (1, 2)]},\n",
       "             scoring=&#x27;f1_micro&#x27;)</pre></div></div></div><div class=\"sk-parallel\"><div class=\"sk-parallel-item\"><div class=\"sk-item\"><div class=\"sk-label-container\"><div class=\"sk-label sk-toggleable\"><input class=\"sk-toggleable__control sk-hidden--visually\" id=\"sk-estimator-id-166\" type=\"checkbox\" ><label for=\"sk-estimator-id-166\" class=\"sk-toggleable__label sk-toggleable__label-arrow\">estimator: Pipeline</label><div class=\"sk-toggleable__content\"><pre>Pipeline(steps=[(&#x27;tvec&#x27;, TfidfVectorizer()),\n",
       "                (&#x27;ros&#x27;, RandomOverSampler(sampling_strategy=&#x27;minority&#x27;)),\n",
       "                (&#x27;rf&#x27;, RandomForestClassifier())])</pre></div></div></div><div class=\"sk-serial\"><div class=\"sk-item\"><div class=\"sk-serial\"><div class=\"sk-item\"><div class=\"sk-estimator sk-toggleable\"><input class=\"sk-toggleable__control sk-hidden--visually\" id=\"sk-estimator-id-167\" type=\"checkbox\" ><label for=\"sk-estimator-id-167\" class=\"sk-toggleable__label sk-toggleable__label-arrow\">TfidfVectorizer</label><div class=\"sk-toggleable__content\"><pre>TfidfVectorizer()</pre></div></div></div><div class=\"sk-item\"><div class=\"sk-estimator sk-toggleable\"><input class=\"sk-toggleable__control sk-hidden--visually\" id=\"sk-estimator-id-168\" type=\"checkbox\" ><label for=\"sk-estimator-id-168\" class=\"sk-toggleable__label sk-toggleable__label-arrow\">RandomOverSampler</label><div class=\"sk-toggleable__content\"><pre>RandomOverSampler(sampling_strategy=&#x27;minority&#x27;)</pre></div></div></div><div class=\"sk-item\"><div class=\"sk-estimator sk-toggleable\"><input class=\"sk-toggleable__control sk-hidden--visually\" id=\"sk-estimator-id-169\" type=\"checkbox\" ><label for=\"sk-estimator-id-169\" class=\"sk-toggleable__label sk-toggleable__label-arrow\">RandomForestClassifier</label><div class=\"sk-toggleable__content\"><pre>RandomForestClassifier()</pre></div></div></div></div></div></div></div></div></div></div></div></div>"
      ],
      "text/plain": [
       "GridSearchCV(cv=5,\n",
       "             estimator=Pipeline(steps=[('tvec', TfidfVectorizer()),\n",
       "                                       ('ros',\n",
       "                                        RandomOverSampler(sampling_strategy='minority')),\n",
       "                                       ('rf', RandomForestClassifier())]),\n",
       "             param_grid={'rf__class_weight': ['balanced'],\n",
       "                         'rf__max_depth': [15, 20, 25, 30],\n",
       "                         'rf__n_estimators': [150, 200, 250, 300],\n",
       "                         'tvec__max_df': [0.9, 0.95], 'tvec__min_df': [10],\n",
       "                         'tvec__ngram_range': [(1, 1), (1, 2)]},\n",
       "             scoring='f1_micro')"
      ]
     },
     "execution_count": 269,
     "metadata": {},
     "output_type": "execute_result"
    }
   ],
   "source": [
    "#Train model\n",
    "gs5.fit(X_train,y_train)"
   ]
  },
  {
   "cell_type": "markdown",
   "id": "e0fdaf70-b1a1-4b42-9fc3-71347ce3f47c",
   "metadata": {},
   "source": [
    "#### 2.5.2 Evaluation"
   ]
  },
  {
   "cell_type": "code",
   "execution_count": 328,
   "id": "9be69380-8f0c-4e98-970b-1b7870ca95f3",
   "metadata": {},
   "outputs": [
    {
     "name": "stdout",
     "output_type": "stream",
     "text": [
      "Train scores\n",
      "--------------------------\n",
      "F1 score: 0.7221\n",
      "--------------------------\n",
      "Recall score: 0.6966\n",
      "Precision score: 0.816\n",
      "Accuracy score: 0.6966\n"
     ]
    }
   ],
   "source": [
    "train_scores(gs5, X_train, y_train)"
   ]
  },
  {
   "cell_type": "code",
   "execution_count": 329,
   "id": "5b6834b0-d5f0-4dab-8b81-9fac4b70db5a",
   "metadata": {},
   "outputs": [
    {
     "name": "stdout",
     "output_type": "stream",
     "text": [
      "Test scores\n",
      "--------------------------\n",
      "F1 score: 0.6228\n",
      "--------------------------\n",
      "Recall score: 0.6003\n",
      "Precision score: 0.7\n",
      "Accuracy score: 0.6003\n"
     ]
    }
   ],
   "source": [
    "test_scores(gs5, X_test, y_test)"
   ]
  },
  {
   "cell_type": "code",
   "execution_count": 272,
   "id": "7f32d4d8-ea58-4cad-8f1a-e1a55e25dbb6",
   "metadata": {},
   "outputs": [
    {
     "data": {
      "text/plain": [
       "{'rf__class_weight': 'balanced',\n",
       " 'rf__max_depth': 30,\n",
       " 'rf__n_estimators': 300,\n",
       " 'tvec__max_df': 0.9,\n",
       " 'tvec__min_df': 10,\n",
       " 'tvec__ngram_range': (1, 1)}"
      ]
     },
     "execution_count": 272,
     "metadata": {},
     "output_type": "execute_result"
    }
   ],
   "source": [
    "gs5.best_params_"
   ]
  },
  {
   "cell_type": "code",
   "execution_count": 273,
   "id": "ddc94956-93b1-4a7e-b252-fa2d3ca7a040",
   "metadata": {},
   "outputs": [
    {
     "data": {
      "image/png": "[encoded data removed]",
      "text/plain": [
       "<Figure size 640x480 with 2 Axes>"
      ]
     },
     "metadata": {},
     "output_type": "display_data"
    }
   ],
   "source": [
    "class_labels = ['negative', 'neutral', 'positive']\n",
    "pred = gs5.predict(X_test)\n",
    "\n",
    "# Create the confusion matrix\n",
    "cm = confusion_matrix(y_test, pred)\n",
    "\n",
    "# Create the ConfusionMatrixDisplay with display_labels\n",
    "disp = ConfusionMatrixDisplay(confusion_matrix=cm, display_labels=class_labels)\n",
    "\n",
    "# Plot the confusion matrix\n",
    "disp.plot()\n",
    "plt.show()"
   ]
  },
  {
   "cell_type": "markdown",
   "id": "8386cb8c-5110-420f-9e0c-3f99689c2a5b",
   "metadata": {},
   "source": [
    "*Evaluation of Model 5: The scores were generally pretty low compared to the Multinomial Naive Bayes model, and it is overfit as well. Thus, we will not be using this model.*"
   ]
  },
  {
   "cell_type": "markdown",
   "id": "b63e7f12-512a-4670-89f8-67c0ca123701",
   "metadata": {},
   "source": [
    "### 2.6 Model 6: RandomOverSampler + TF-IDF vectorizer + Logistic Regression Model"
   ]
  },
  {
   "cell_type": "markdown",
   "id": "c5aa3e80-417c-4eb3-9af0-fd9b40a3c90d",
   "metadata": {},
   "source": [
    "#### 2.6.1 Modeling"
   ]
  },
  {
   "cell_type": "code",
   "execution_count": 274,
   "id": "7f825eb5-8698-46de-a525-8004a1f8afc5",
   "metadata": {},
   "outputs": [],
   "source": [
    "#Instantiate pipeline \n",
    "pipe = ImblearnPipeline([('tvec', TfidfVectorizer()), \n",
    "                 ('ros', RandomOverSampler(sampling_strategy='minority')),\n",
    "                 ('lr', LogisticRegression())])"
   ]
  },
  {
   "cell_type": "code",
   "execution_count": 275,
   "id": "9e38922a-d125-4637-a162-75c5acbe4079",
   "metadata": {},
   "outputs": [],
   "source": [
    "#Setting pipe parameters\n",
    "pipe_params={'tvec__min_df': [15],\n",
    "             'tvec__max_df': [0.90, 0.95],\n",
    "             'tvec__ngram_range': [(1,1), (1,2)],\n",
    "             'lr__C': [0.2],\n",
    "             'lr__solver': ['liblinear'],\n",
    "             'lr__max_iter': [1000,2000],\n",
    "             'lr__class_weight': ['balanced']}"
   ]
  },
  {
   "cell_type": "code",
   "execution_count": 276,
   "id": "16b909d2-33ad-42d7-bc59-e478bda417be",
   "metadata": {},
   "outputs": [],
   "source": [
    "#Instantiate Gridsearch\n",
    "gs6=GridSearchCV(pipe,\n",
    "                param_grid=pipe_params,\n",
    "                scoring = 'f1_micro',\n",
    "                cv=5)"
   ]
  },
  {
   "cell_type": "code",
   "execution_count": 277,
   "id": "62875050-bdfc-47f3-bb0d-e3da020e50e8",
   "metadata": {},
   "outputs": [
    {
     "data": {
      "text/html": [
       "<style>#sk-container-id-38 {color: black;}#sk-container-id-38 pre{padding: 0;}#sk-container-id-38 div.sk-toggleable {background-color: white;}#sk-container-id-38 label.sk-toggleable__label {cursor: pointer;display: block;width: 100%;margin-bottom: 0;padding: 0.3em;box-sizing: border-box;text-align: center;}#sk-container-id-38 label.sk-toggleable__label-arrow:before {content: \"▸\";float: left;margin-right: 0.25em;color: #696969;}#sk-container-id-38 label.sk-toggleable__label-arrow:hover:before {color: black;}#sk-container-id-38 div.sk-estimator:hover label.sk-toggleable__label-arrow:before {color: black;}#sk-container-id-38 div.sk-toggleable__content {max-height: 0;max-width: 0;overflow: hidden;text-align: left;background-color: #f0f8ff;}#sk-container-id-38 div.sk-toggleable__content pre {margin: 0.2em;color: black;border-radius: 0.25em;background-color: #f0f8ff;}#sk-container-id-38 input.sk-toggleable__control:checked~div.sk-toggleable__content {max-height: 200px;max-width: 100%;overflow: auto;}#sk-container-id-38 input.sk-toggleable__control:checked~label.sk-toggleable__label-arrow:before {content: \"▾\";}#sk-container-id-38 div.sk-estimator input.sk-toggleable__control:checked~label.sk-toggleable__label {background-color: #d4ebff;}#sk-container-id-38 div.sk-label input.sk-toggleable__control:checked~label.sk-toggleable__label {background-color: #d4ebff;}#sk-container-id-38 input.sk-hidden--visually {border: 0;clip: rect(1px 1px 1px 1px);clip: rect(1px, 1px, 1px, 1px);height: 1px;margin: -1px;overflow: hidden;padding: 0;position: absolute;width: 1px;}#sk-container-id-38 div.sk-estimator {font-family: monospace;background-color: #f0f8ff;border: 1px dotted black;border-radius: 0.25em;box-sizing: border-box;margin-bottom: 0.5em;}#sk-container-id-38 div.sk-estimator:hover {background-color: #d4ebff;}#sk-container-id-38 div.sk-parallel-item::after {content: \"\";width: 100%;border-bottom: 1px solid gray;flex-grow: 1;}#sk-container-id-38 div.sk-label:hover label.sk-toggleable__label {background-color: #d4ebff;}#sk-container-id-38 div.sk-serial::before {content: \"\";position: absolute;border-left: 1px solid gray;box-sizing: border-box;top: 0;bottom: 0;left: 50%;z-index: 0;}#sk-container-id-38 div.sk-serial {display: flex;flex-direction: column;align-items: center;background-color: white;padding-right: 0.2em;padding-left: 0.2em;position: relative;}#sk-container-id-38 div.sk-item {position: relative;z-index: 1;}#sk-container-id-38 div.sk-parallel {display: flex;align-items: stretch;justify-content: center;background-color: white;position: relative;}#sk-container-id-38 div.sk-item::before, #sk-container-id-38 div.sk-parallel-item::before {content: \"\";position: absolute;border-left: 1px solid gray;box-sizing: border-box;top: 0;bottom: 0;left: 50%;z-index: -1;}#sk-container-id-38 div.sk-parallel-item {display: flex;flex-direction: column;z-index: 1;position: relative;background-color: white;}#sk-container-id-38 div.sk-parallel-item:first-child::after {align-self: flex-end;width: 50%;}#sk-container-id-38 div.sk-parallel-item:last-child::after {align-self: flex-start;width: 50%;}#sk-container-id-38 div.sk-parallel-item:only-child::after {width: 0;}#sk-container-id-38 div.sk-dashed-wrapped {border: 1px dashed gray;margin: 0 0.4em 0.5em 0.4em;box-sizing: border-box;padding-bottom: 0.4em;background-color: white;}#sk-container-id-38 div.sk-label label {font-family: monospace;font-weight: bold;display: inline-block;line-height: 1.2em;}#sk-container-id-38 div.sk-label-container {text-align: center;}#sk-container-id-38 div.sk-container {/* jupyter's `normalize.less` sets `[hidden] { display: none; }` but bootstrap.min.css set `[hidden] { display: none !important; }` so we also need the `!important` here to be able to override the default hidden behavior on the sphinx rendered scikit-learn.org. See: https://github.com/scikit-learn/scikit-learn/issues/21755 */display: inline-block !important;position: relative;}#sk-container-id-38 div.sk-text-repr-fallback {display: none;}</style><div id=\"sk-container-id-38\" class=\"sk-top-container\"><div class=\"sk-text-repr-fallback\"><pre>GridSearchCV(cv=5,\n",
       "             estimator=Pipeline(steps=[(&#x27;tvec&#x27;, TfidfVectorizer()),\n",
       "                                       (&#x27;ros&#x27;,\n",
       "                                        RandomOverSampler(sampling_strategy=&#x27;minority&#x27;)),\n",
       "                                       (&#x27;lr&#x27;, LogisticRegression())]),\n",
       "             param_grid={&#x27;lr__C&#x27;: [0.2], &#x27;lr__class_weight&#x27;: [&#x27;balanced&#x27;],\n",
       "                         &#x27;lr__max_iter&#x27;: [1000, 2000],\n",
       "                         &#x27;lr__solver&#x27;: [&#x27;liblinear&#x27;],\n",
       "                         &#x27;tvec__max_df&#x27;: [0.9, 0.95], &#x27;tvec__min_df&#x27;: [15],\n",
       "                         &#x27;tvec__ngram_range&#x27;: [(1, 1), (1, 2)]},\n",
       "             scoring=&#x27;f1_micro&#x27;)</pre><b>In a Jupyter environment, please rerun this cell to show the HTML representation or trust the notebook. <br />On GitHub, the HTML representation is unable to render, please try loading this page with nbviewer.org.</b></div><div class=\"sk-container\" hidden><div class=\"sk-item sk-dashed-wrapped\"><div class=\"sk-label-container\"><div class=\"sk-label sk-toggleable\"><input class=\"sk-toggleable__control sk-hidden--visually\" id=\"sk-estimator-id-170\" type=\"checkbox\" ><label for=\"sk-estimator-id-170\" class=\"sk-toggleable__label sk-toggleable__label-arrow\">GridSearchCV</label><div class=\"sk-toggleable__content\"><pre>GridSearchCV(cv=5,\n",
       "             estimator=Pipeline(steps=[(&#x27;tvec&#x27;, TfidfVectorizer()),\n",
       "                                       (&#x27;ros&#x27;,\n",
       "                                        RandomOverSampler(sampling_strategy=&#x27;minority&#x27;)),\n",
       "                                       (&#x27;lr&#x27;, LogisticRegression())]),\n",
       "             param_grid={&#x27;lr__C&#x27;: [0.2], &#x27;lr__class_weight&#x27;: [&#x27;balanced&#x27;],\n",
       "                         &#x27;lr__max_iter&#x27;: [1000, 2000],\n",
       "                         &#x27;lr__solver&#x27;: [&#x27;liblinear&#x27;],\n",
       "                         &#x27;tvec__max_df&#x27;: [0.9, 0.95], &#x27;tvec__min_df&#x27;: [15],\n",
       "                         &#x27;tvec__ngram_range&#x27;: [(1, 1), (1, 2)]},\n",
       "             scoring=&#x27;f1_micro&#x27;)</pre></div></div></div><div class=\"sk-parallel\"><div class=\"sk-parallel-item\"><div class=\"sk-item\"><div class=\"sk-label-container\"><div class=\"sk-label sk-toggleable\"><input class=\"sk-toggleable__control sk-hidden--visually\" id=\"sk-estimator-id-171\" type=\"checkbox\" ><label for=\"sk-estimator-id-171\" class=\"sk-toggleable__label sk-toggleable__label-arrow\">estimator: Pipeline</label><div class=\"sk-toggleable__content\"><pre>Pipeline(steps=[(&#x27;tvec&#x27;, TfidfVectorizer()),\n",
       "                (&#x27;ros&#x27;, RandomOverSampler(sampling_strategy=&#x27;minority&#x27;)),\n",
       "                (&#x27;lr&#x27;, LogisticRegression())])</pre></div></div></div><div class=\"sk-serial\"><div class=\"sk-item\"><div class=\"sk-serial\"><div class=\"sk-item\"><div class=\"sk-estimator sk-toggleable\"><input class=\"sk-toggleable__control sk-hidden--visually\" id=\"sk-estimator-id-172\" type=\"checkbox\" ><label for=\"sk-estimator-id-172\" class=\"sk-toggleable__label sk-toggleable__label-arrow\">TfidfVectorizer</label><div class=\"sk-toggleable__content\"><pre>TfidfVectorizer()</pre></div></div></div><div class=\"sk-item\"><div class=\"sk-estimator sk-toggleable\"><input class=\"sk-toggleable__control sk-hidden--visually\" id=\"sk-estimator-id-173\" type=\"checkbox\" ><label for=\"sk-estimator-id-173\" class=\"sk-toggleable__label sk-toggleable__label-arrow\">RandomOverSampler</label><div class=\"sk-toggleable__content\"><pre>RandomOverSampler(sampling_strategy=&#x27;minority&#x27;)</pre></div></div></div><div class=\"sk-item\"><div class=\"sk-estimator sk-toggleable\"><input class=\"sk-toggleable__control sk-hidden--visually\" id=\"sk-estimator-id-174\" type=\"checkbox\" ><label for=\"sk-estimator-id-174\" class=\"sk-toggleable__label sk-toggleable__label-arrow\">LogisticRegression</label><div class=\"sk-toggleable__content\"><pre>LogisticRegression()</pre></div></div></div></div></div></div></div></div></div></div></div></div>"
      ],
      "text/plain": [
       "GridSearchCV(cv=5,\n",
       "             estimator=Pipeline(steps=[('tvec', TfidfVectorizer()),\n",
       "                                       ('ros',\n",
       "                                        RandomOverSampler(sampling_strategy='minority')),\n",
       "                                       ('lr', LogisticRegression())]),\n",
       "             param_grid={'lr__C': [0.2], 'lr__class_weight': ['balanced'],\n",
       "                         'lr__max_iter': [1000, 2000],\n",
       "                         'lr__solver': ['liblinear'],\n",
       "                         'tvec__max_df': [0.9, 0.95], 'tvec__min_df': [15],\n",
       "                         'tvec__ngram_range': [(1, 1), (1, 2)]},\n",
       "             scoring='f1_micro')"
      ]
     },
     "execution_count": 277,
     "metadata": {},
     "output_type": "execute_result"
    }
   ],
   "source": [
    "#Train model\n",
    "gs6.fit(X_train,y_train)"
   ]
  },
  {
   "cell_type": "markdown",
   "id": "6db47205-4f4e-40da-ae84-b1756ca85fa7",
   "metadata": {},
   "source": [
    "#### 2.6.2 Evaluation"
   ]
  },
  {
   "cell_type": "code",
   "execution_count": 330,
   "id": "df947a48-cb8d-401d-8cbf-fb43dd874f12",
   "metadata": {},
   "outputs": [
    {
     "name": "stdout",
     "output_type": "stream",
     "text": [
      "Train scores\n",
      "--------------------------\n",
      "F1 score: 0.7208\n",
      "--------------------------\n",
      "Recall score: 0.7096\n",
      "Precision score: 0.7574\n",
      "Accuracy score: 0.7096\n"
     ]
    }
   ],
   "source": [
    "train_scores(gs6, X_train, y_train)"
   ]
  },
  {
   "cell_type": "code",
   "execution_count": 331,
   "id": "204e5853-c1e9-4774-b98e-f963892480b1",
   "metadata": {},
   "outputs": [
    {
     "name": "stdout",
     "output_type": "stream",
     "text": [
      "Test scores\n",
      "--------------------------\n",
      "F1 score: 0.693\n",
      "--------------------------\n",
      "Recall score: 0.6797\n",
      "Precision score: 0.7297\n",
      "Accuracy score: 0.6797\n"
     ]
    }
   ],
   "source": [
    "test_scores(gs6, X_test, y_test)"
   ]
  },
  {
   "cell_type": "code",
   "execution_count": 280,
   "id": "ec901a58-8b8b-4de3-a8e6-f0a7d31aa191",
   "metadata": {},
   "outputs": [
    {
     "data": {
      "image/png": "[encoded data removed]",
      "text/plain": [
       "<Figure size 640x480 with 2 Axes>"
      ]
     },
     "metadata": {},
     "output_type": "display_data"
    }
   ],
   "source": [
    "class_labels = ['negative', 'neutral', 'positive']\n",
    "pred = gs6.predict(X_test)\n",
    "\n",
    "# Create the confusion matrix\n",
    "cm = confusion_matrix(y_test, pred)\n",
    "\n",
    "# Create the ConfusionMatrixDisplay with display_labels\n",
    "disp = ConfusionMatrixDisplay(confusion_matrix=cm, display_labels=class_labels)\n",
    "\n",
    "# Plot the confusion matrix\n",
    "disp.plot()\n",
    "plt.show()"
   ]
  },
  {
   "cell_type": "markdown",
   "id": "5f39e2fb-9a7a-4346-b9b7-d7d9d82afae3",
   "metadata": {},
   "source": [
    "*Evaluation of Model 6: It performed quite closely to Model 2, although the result is still inferior.*"
   ]
  },
  {
   "cell_type": "markdown",
   "id": "c60e9e0e-72ac-4324-9f9f-a771fc237f5b",
   "metadata": {},
   "source": [
    "### 2.7 Model 7: RandomOverSampler + TF-IDF vectorizer + Support Vector Machine Model (Linear)"
   ]
  },
  {
   "cell_type": "markdown",
   "id": "e84ff7a5-1259-4b61-9b0e-6397122b292c",
   "metadata": {},
   "source": [
    "#### 2.7.1 Modeling"
   ]
  },
  {
   "cell_type": "code",
   "execution_count": 281,
   "id": "a2acc280-6261-4d96-9d2f-ac376769b380",
   "metadata": {},
   "outputs": [],
   "source": [
    "#Instantiate pipeline \n",
    "pipe = ImblearnPipeline([('tvec', TfidfVectorizer()), \n",
    "                 ('ros', RandomOverSampler(sampling_strategy='minority')),\n",
    "                 ('lsvc', LinearSVC())])"
   ]
  },
  {
   "cell_type": "code",
   "execution_count": 282,
   "id": "73984192-5eb5-44b9-83d6-64c90632cd9e",
   "metadata": {},
   "outputs": [],
   "source": [
    "#Setting pipe parameters\n",
    "pipe_params={'tvec__min_df': [20],\n",
    "             'tvec__max_df': [0.75],\n",
    "             'tvec__ngram_range': [(1,1), (1,2)],\n",
    "             'lsvc__max_iter': [10000, 20000]}"
   ]
  },
  {
   "cell_type": "code",
   "execution_count": 283,
   "id": "dfd56d31-3b96-483d-8370-0a977d754677",
   "metadata": {},
   "outputs": [],
   "source": [
    "#Instantiate Gridsearch\n",
    "gs7=GridSearchCV(pipe,\n",
    "                param_grid=pipe_params,\n",
    "                scoring = 'f1_micro',\n",
    "                cv=5)"
   ]
  },
  {
   "cell_type": "code",
   "execution_count": 284,
   "id": "2b6775c2-6b1b-4969-b88b-7a4edaded4c2",
   "metadata": {},
   "outputs": [
    {
     "data": {
      "text/html": [
       "<style>#sk-container-id-39 {color: black;}#sk-container-id-39 pre{padding: 0;}#sk-container-id-39 div.sk-toggleable {background-color: white;}#sk-container-id-39 label.sk-toggleable__label {cursor: pointer;display: block;width: 100%;margin-bottom: 0;padding: 0.3em;box-sizing: border-box;text-align: center;}#sk-container-id-39 label.sk-toggleable__label-arrow:before {content: \"▸\";float: left;margin-right: 0.25em;color: #696969;}#sk-container-id-39 label.sk-toggleable__label-arrow:hover:before {color: black;}#sk-container-id-39 div.sk-estimator:hover label.sk-toggleable__label-arrow:before {color: black;}#sk-container-id-39 div.sk-toggleable__content {max-height: 0;max-width: 0;overflow: hidden;text-align: left;background-color: #f0f8ff;}#sk-container-id-39 div.sk-toggleable__content pre {margin: 0.2em;color: black;border-radius: 0.25em;background-color: #f0f8ff;}#sk-container-id-39 input.sk-toggleable__control:checked~div.sk-toggleable__content {max-height: 200px;max-width: 100%;overflow: auto;}#sk-container-id-39 input.sk-toggleable__control:checked~label.sk-toggleable__label-arrow:before {content: \"▾\";}#sk-container-id-39 div.sk-estimator input.sk-toggleable__control:checked~label.sk-toggleable__label {background-color: #d4ebff;}#sk-container-id-39 div.sk-label input.sk-toggleable__control:checked~label.sk-toggleable__label {background-color: #d4ebff;}#sk-container-id-39 input.sk-hidden--visually {border: 0;clip: rect(1px 1px 1px 1px);clip: rect(1px, 1px, 1px, 1px);height: 1px;margin: -1px;overflow: hidden;padding: 0;position: absolute;width: 1px;}#sk-container-id-39 div.sk-estimator {font-family: monospace;background-color: #f0f8ff;border: 1px dotted black;border-radius: 0.25em;box-sizing: border-box;margin-bottom: 0.5em;}#sk-container-id-39 div.sk-estimator:hover {background-color: #d4ebff;}#sk-container-id-39 div.sk-parallel-item::after {content: \"\";width: 100%;border-bottom: 1px solid gray;flex-grow: 1;}#sk-container-id-39 div.sk-label:hover label.sk-toggleable__label {background-color: #d4ebff;}#sk-container-id-39 div.sk-serial::before {content: \"\";position: absolute;border-left: 1px solid gray;box-sizing: border-box;top: 0;bottom: 0;left: 50%;z-index: 0;}#sk-container-id-39 div.sk-serial {display: flex;flex-direction: column;align-items: center;background-color: white;padding-right: 0.2em;padding-left: 0.2em;position: relative;}#sk-container-id-39 div.sk-item {position: relative;z-index: 1;}#sk-container-id-39 div.sk-parallel {display: flex;align-items: stretch;justify-content: center;background-color: white;position: relative;}#sk-container-id-39 div.sk-item::before, #sk-container-id-39 div.sk-parallel-item::before {content: \"\";position: absolute;border-left: 1px solid gray;box-sizing: border-box;top: 0;bottom: 0;left: 50%;z-index: -1;}#sk-container-id-39 div.sk-parallel-item {display: flex;flex-direction: column;z-index: 1;position: relative;background-color: white;}#sk-container-id-39 div.sk-parallel-item:first-child::after {align-self: flex-end;width: 50%;}#sk-container-id-39 div.sk-parallel-item:last-child::after {align-self: flex-start;width: 50%;}#sk-container-id-39 div.sk-parallel-item:only-child::after {width: 0;}#sk-container-id-39 div.sk-dashed-wrapped {border: 1px dashed gray;margin: 0 0.4em 0.5em 0.4em;box-sizing: border-box;padding-bottom: 0.4em;background-color: white;}#sk-container-id-39 div.sk-label label {font-family: monospace;font-weight: bold;display: inline-block;line-height: 1.2em;}#sk-container-id-39 div.sk-label-container {text-align: center;}#sk-container-id-39 div.sk-container {/* jupyter's `normalize.less` sets `[hidden] { display: none; }` but bootstrap.min.css set `[hidden] { display: none !important; }` so we also need the `!important` here to be able to override the default hidden behavior on the sphinx rendered scikit-learn.org. See: https://github.com/scikit-learn/scikit-learn/issues/21755 */display: inline-block !important;position: relative;}#sk-container-id-39 div.sk-text-repr-fallback {display: none;}</style><div id=\"sk-container-id-39\" class=\"sk-top-container\"><div class=\"sk-text-repr-fallback\"><pre>GridSearchCV(cv=5,\n",
       "             estimator=Pipeline(steps=[(&#x27;tvec&#x27;, TfidfVectorizer()),\n",
       "                                       (&#x27;ros&#x27;,\n",
       "                                        RandomOverSampler(sampling_strategy=&#x27;minority&#x27;)),\n",
       "                                       (&#x27;lsvc&#x27;, LinearSVC())]),\n",
       "             param_grid={&#x27;lsvc__max_iter&#x27;: [10000, 20000],\n",
       "                         &#x27;tvec__max_df&#x27;: [0.75], &#x27;tvec__min_df&#x27;: [20],\n",
       "                         &#x27;tvec__ngram_range&#x27;: [(1, 1), (1, 2)]},\n",
       "             scoring=&#x27;f1_micro&#x27;)</pre><b>In a Jupyter environment, please rerun this cell to show the HTML representation or trust the notebook. <br />On GitHub, the HTML representation is unable to render, please try loading this page with nbviewer.org.</b></div><div class=\"sk-container\" hidden><div class=\"sk-item sk-dashed-wrapped\"><div class=\"sk-label-container\"><div class=\"sk-label sk-toggleable\"><input class=\"sk-toggleable__control sk-hidden--visually\" id=\"sk-estimator-id-175\" type=\"checkbox\" ><label for=\"sk-estimator-id-175\" class=\"sk-toggleable__label sk-toggleable__label-arrow\">GridSearchCV</label><div class=\"sk-toggleable__content\"><pre>GridSearchCV(cv=5,\n",
       "             estimator=Pipeline(steps=[(&#x27;tvec&#x27;, TfidfVectorizer()),\n",
       "                                       (&#x27;ros&#x27;,\n",
       "                                        RandomOverSampler(sampling_strategy=&#x27;minority&#x27;)),\n",
       "                                       (&#x27;lsvc&#x27;, LinearSVC())]),\n",
       "             param_grid={&#x27;lsvc__max_iter&#x27;: [10000, 20000],\n",
       "                         &#x27;tvec__max_df&#x27;: [0.75], &#x27;tvec__min_df&#x27;: [20],\n",
       "                         &#x27;tvec__ngram_range&#x27;: [(1, 1), (1, 2)]},\n",
       "             scoring=&#x27;f1_micro&#x27;)</pre></div></div></div><div class=\"sk-parallel\"><div class=\"sk-parallel-item\"><div class=\"sk-item\"><div class=\"sk-label-container\"><div class=\"sk-label sk-toggleable\"><input class=\"sk-toggleable__control sk-hidden--visually\" id=\"sk-estimator-id-176\" type=\"checkbox\" ><label for=\"sk-estimator-id-176\" class=\"sk-toggleable__label sk-toggleable__label-arrow\">estimator: Pipeline</label><div class=\"sk-toggleable__content\"><pre>Pipeline(steps=[(&#x27;tvec&#x27;, TfidfVectorizer()),\n",
       "                (&#x27;ros&#x27;, RandomOverSampler(sampling_strategy=&#x27;minority&#x27;)),\n",
       "                (&#x27;lsvc&#x27;, LinearSVC())])</pre></div></div></div><div class=\"sk-serial\"><div class=\"sk-item\"><div class=\"sk-serial\"><div class=\"sk-item\"><div class=\"sk-estimator sk-toggleable\"><input class=\"sk-toggleable__control sk-hidden--visually\" id=\"sk-estimator-id-177\" type=\"checkbox\" ><label for=\"sk-estimator-id-177\" class=\"sk-toggleable__label sk-toggleable__label-arrow\">TfidfVectorizer</label><div class=\"sk-toggleable__content\"><pre>TfidfVectorizer()</pre></div></div></div><div class=\"sk-item\"><div class=\"sk-estimator sk-toggleable\"><input class=\"sk-toggleable__control sk-hidden--visually\" id=\"sk-estimator-id-178\" type=\"checkbox\" ><label for=\"sk-estimator-id-178\" class=\"sk-toggleable__label sk-toggleable__label-arrow\">RandomOverSampler</label><div class=\"sk-toggleable__content\"><pre>RandomOverSampler(sampling_strategy=&#x27;minority&#x27;)</pre></div></div></div><div class=\"sk-item\"><div class=\"sk-estimator sk-toggleable\"><input class=\"sk-toggleable__control sk-hidden--visually\" id=\"sk-estimator-id-179\" type=\"checkbox\" ><label for=\"sk-estimator-id-179\" class=\"sk-toggleable__label sk-toggleable__label-arrow\">LinearSVC</label><div class=\"sk-toggleable__content\"><pre>LinearSVC()</pre></div></div></div></div></div></div></div></div></div></div></div></div>"
      ],
      "text/plain": [
       "GridSearchCV(cv=5,\n",
       "             estimator=Pipeline(steps=[('tvec', TfidfVectorizer()),\n",
       "                                       ('ros',\n",
       "                                        RandomOverSampler(sampling_strategy='minority')),\n",
       "                                       ('lsvc', LinearSVC())]),\n",
       "             param_grid={'lsvc__max_iter': [10000, 20000],\n",
       "                         'tvec__max_df': [0.75], 'tvec__min_df': [20],\n",
       "                         'tvec__ngram_range': [(1, 1), (1, 2)]},\n",
       "             scoring='f1_micro')"
      ]
     },
     "execution_count": 284,
     "metadata": {},
     "output_type": "execute_result"
    }
   ],
   "source": [
    "#Train model\n",
    "gs7.fit(X_train,y_train)"
   ]
  },
  {
   "cell_type": "markdown",
   "id": "0dba158a-6e7a-440b-8be6-15814af186c8",
   "metadata": {},
   "source": [
    "#### 2.7.2 Evaluation"
   ]
  },
  {
   "cell_type": "code",
   "execution_count": 332,
   "id": "033cbf59-72c9-4421-9050-c5809f025090",
   "metadata": {},
   "outputs": [
    {
     "name": "stdout",
     "output_type": "stream",
     "text": [
      "Train scores\n",
      "--------------------------\n",
      "F1 score: 0.7399\n",
      "--------------------------\n",
      "Recall score: 0.7282\n",
      "Precision score: 0.7831\n",
      "Accuracy score: 0.7282\n"
     ]
    }
   ],
   "source": [
    "train_scores(gs7, X_train, y_train)"
   ]
  },
  {
   "cell_type": "code",
   "execution_count": 333,
   "id": "f68102af-140e-48b2-9698-5cafe9ac28bc",
   "metadata": {},
   "outputs": [
    {
     "name": "stdout",
     "output_type": "stream",
     "text": [
      "Test scores\n",
      "--------------------------\n",
      "F1 score: 0.6927\n",
      "--------------------------\n",
      "Recall score: 0.6786\n",
      "Precision score: 0.7338\n",
      "Accuracy score: 0.6786\n"
     ]
    }
   ],
   "source": [
    "test_scores(gs7, X_test, y_test)"
   ]
  },
  {
   "cell_type": "code",
   "execution_count": 287,
   "id": "0cf2ec6e-b353-408d-86a5-ce74fd1b7003",
   "metadata": {},
   "outputs": [
    {
     "data": {
      "image/png": "[encoded data removed]",
      "text/plain": [
       "<Figure size 640x480 with 2 Axes>"
      ]
     },
     "metadata": {},
     "output_type": "display_data"
    }
   ],
   "source": [
    "class_labels = ['negative', 'neutral', 'positive']\n",
    "pred = gs7.predict(X_test)\n",
    "\n",
    "# Create the confusion matrix\n",
    "cm = confusion_matrix(y_test, pred)\n",
    "\n",
    "# Create the ConfusionMatrixDisplay with display_labels\n",
    "disp = ConfusionMatrixDisplay(confusion_matrix=cm, display_labels=class_labels)\n",
    "\n",
    "# Plot the confusion matrix\n",
    "disp.plot()\n",
    "plt.show()"
   ]
  },
  {
   "cell_type": "markdown",
   "id": "6a402e2d-f38f-40b3-bfc7-0ce2eca425cc",
   "metadata": {},
   "source": [
    "*Evaluation of Model 7: Similar to the Logistic Regression, it performed quite closely to Model 2, although the result is still inferior.*"
   ]
  },
  {
   "cell_type": "markdown",
   "id": "b1b251e4-5c36-4bed-8648-d64c9355a5c1",
   "metadata": {},
   "source": [
    "### 2.8 Model 8: RandomOverSampler + TF-IDF vectorizer + AdaBoost Classifier Model"
   ]
  },
  {
   "cell_type": "markdown",
   "id": "06301dd6-535e-41c1-b707-d2137f1ecc4f",
   "metadata": {},
   "source": [
    "#### 2.8.1 Modeling"
   ]
  },
  {
   "cell_type": "code",
   "execution_count": 7,
   "id": "8cda9177-0e55-4341-a92f-d45cfc9139ae",
   "metadata": {},
   "outputs": [],
   "source": [
    "#Instantiate pipeline \n",
    "pipe = ImblearnPipeline([('tvec', TfidfVectorizer()), \n",
    "                 ('ros', RandomOverSampler(sampling_strategy='minority')),\n",
    "                   ('adac', AdaBoostClassifier(base_estimator=DecisionTreeClassifier()))])"
   ]
  },
  {
   "cell_type": "code",
   "execution_count": 8,
   "id": "23e601dd-96b8-4794-9d0e-102cd92213f4",
   "metadata": {},
   "outputs": [],
   "source": [
    "pipe_params = {\n",
    "             'tvec__min_df': [10],\n",
    "             'tvec__max_df': [0.9, 0.95],\n",
    "             'tvec__ngram_range': [(1,1), (1,2)],\n",
    "             'adac__n_estimators': [50,100],\n",
    "             'adac__learning_rate': [0.01, 0.1, 0.2]\n",
    "}"
   ]
  },
  {
   "cell_type": "code",
   "execution_count": 9,
   "id": "7bbfe3ae-0a27-4c9f-8908-337169290f91",
   "metadata": {},
   "outputs": [],
   "source": [
    "#Instantiate Gridsearch\n",
    "gs8=GridSearchCV(pipe,\n",
    "                param_grid=pipe_params,\n",
    "                scoring = 'f1_micro',\n",
    "                cv=5)"
   ]
  },
  {
   "cell_type": "code",
   "execution_count": 10,
   "id": "79e157b8-9e0e-4d61-9ef4-11bf4aa12c07",
   "metadata": {
    "scrolled": true
   },
   "outputs": [
    {
     "data": {
      "text/html": [
       "<style>#sk-container-id-1 {color: black;}#sk-container-id-1 pre{padding: 0;}#sk-container-id-1 div.sk-toggleable {background-color: white;}#sk-container-id-1 label.sk-toggleable__label {cursor: pointer;display: block;width: 100%;margin-bottom: 0;padding: 0.3em;box-sizing: border-box;text-align: center;}#sk-container-id-1 label.sk-toggleable__label-arrow:before {content: \"▸\";float: left;margin-right: 0.25em;color: #696969;}#sk-container-id-1 label.sk-toggleable__label-arrow:hover:before {color: black;}#sk-container-id-1 div.sk-estimator:hover label.sk-toggleable__label-arrow:before {color: black;}#sk-container-id-1 div.sk-toggleable__content {max-height: 0;max-width: 0;overflow: hidden;text-align: left;background-color: #f0f8ff;}#sk-container-id-1 div.sk-toggleable__content pre {margin: 0.2em;color: black;border-radius: 0.25em;background-color: #f0f8ff;}#sk-container-id-1 input.sk-toggleable__control:checked~div.sk-toggleable__content {max-height: 200px;max-width: 100%;overflow: auto;}#sk-container-id-1 input.sk-toggleable__control:checked~label.sk-toggleable__label-arrow:before {content: \"▾\";}#sk-container-id-1 div.sk-estimator input.sk-toggleable__control:checked~label.sk-toggleable__label {background-color: #d4ebff;}#sk-container-id-1 div.sk-label input.sk-toggleable__control:checked~label.sk-toggleable__label {background-color: #d4ebff;}#sk-container-id-1 input.sk-hidden--visually {border: 0;clip: rect(1px 1px 1px 1px);clip: rect(1px, 1px, 1px, 1px);height: 1px;margin: -1px;overflow: hidden;padding: 0;position: absolute;width: 1px;}#sk-container-id-1 div.sk-estimator {font-family: monospace;background-color: #f0f8ff;border: 1px dotted black;border-radius: 0.25em;box-sizing: border-box;margin-bottom: 0.5em;}#sk-container-id-1 div.sk-estimator:hover {background-color: #d4ebff;}#sk-container-id-1 div.sk-parallel-item::after {content: \"\";width: 100%;border-bottom: 1px solid gray;flex-grow: 1;}#sk-container-id-1 div.sk-label:hover label.sk-toggleable__label {background-color: #d4ebff;}#sk-container-id-1 div.sk-serial::before {content: \"\";position: absolute;border-left: 1px solid gray;box-sizing: border-box;top: 0;bottom: 0;left: 50%;z-index: 0;}#sk-container-id-1 div.sk-serial {display: flex;flex-direction: column;align-items: center;background-color: white;padding-right: 0.2em;padding-left: 0.2em;position: relative;}#sk-container-id-1 div.sk-item {position: relative;z-index: 1;}#sk-container-id-1 div.sk-parallel {display: flex;align-items: stretch;justify-content: center;background-color: white;position: relative;}#sk-container-id-1 div.sk-item::before, #sk-container-id-1 div.sk-parallel-item::before {content: \"\";position: absolute;border-left: 1px solid gray;box-sizing: border-box;top: 0;bottom: 0;left: 50%;z-index: -1;}#sk-container-id-1 div.sk-parallel-item {display: flex;flex-direction: column;z-index: 1;position: relative;background-color: white;}#sk-container-id-1 div.sk-parallel-item:first-child::after {align-self: flex-end;width: 50%;}#sk-container-id-1 div.sk-parallel-item:last-child::after {align-self: flex-start;width: 50%;}#sk-container-id-1 div.sk-parallel-item:only-child::after {width: 0;}#sk-container-id-1 div.sk-dashed-wrapped {border: 1px dashed gray;margin: 0 0.4em 0.5em 0.4em;box-sizing: border-box;padding-bottom: 0.4em;background-color: white;}#sk-container-id-1 div.sk-label label {font-family: monospace;font-weight: bold;display: inline-block;line-height: 1.2em;}#sk-container-id-1 div.sk-label-container {text-align: center;}#sk-container-id-1 div.sk-container {/* jupyter's `normalize.less` sets `[hidden] { display: none; }` but bootstrap.min.css set `[hidden] { display: none !important; }` so we also need the `!important` here to be able to override the default hidden behavior on the sphinx rendered scikit-learn.org. See: https://github.com/scikit-learn/scikit-learn/issues/21755 */display: inline-block !important;position: relative;}#sk-container-id-1 div.sk-text-repr-fallback {display: none;}</style><div id=\"sk-container-id-1\" class=\"sk-top-container\"><div class=\"sk-text-repr-fallback\"><pre>GridSearchCV(cv=5,\n",
       "             estimator=Pipeline(steps=[(&#x27;tvec&#x27;, TfidfVectorizer()),\n",
       "                                       (&#x27;ros&#x27;,\n",
       "                                        RandomOverSampler(sampling_strategy=&#x27;minority&#x27;)),\n",
       "                                       (&#x27;adac&#x27;,\n",
       "                                        AdaBoostClassifier(base_estimator=DecisionTreeClassifier()))]),\n",
       "             param_grid={&#x27;adac__learning_rate&#x27;: [0.01, 0.1, 0.2],\n",
       "                         &#x27;adac__n_estimators&#x27;: [50, 100],\n",
       "                         &#x27;tvec__max_df&#x27;: [0.9, 0.95], &#x27;tvec__min_df&#x27;: [10],\n",
       "                         &#x27;tvec__ngram_range&#x27;: [(1, 1), (1, 2)]},\n",
       "             scoring=&#x27;f1_micro&#x27;)</pre><b>In a Jupyter environment, please rerun this cell to show the HTML representation or trust the notebook. <br />On GitHub, the HTML representation is unable to render, please try loading this page with nbviewer.org.</b></div><div class=\"sk-container\" hidden><div class=\"sk-item sk-dashed-wrapped\"><div class=\"sk-label-container\"><div class=\"sk-label sk-toggleable\"><input class=\"sk-toggleable__control sk-hidden--visually\" id=\"sk-estimator-id-1\" type=\"checkbox\" ><label for=\"sk-estimator-id-1\" class=\"sk-toggleable__label sk-toggleable__label-arrow\">GridSearchCV</label><div class=\"sk-toggleable__content\"><pre>GridSearchCV(cv=5,\n",
       "             estimator=Pipeline(steps=[(&#x27;tvec&#x27;, TfidfVectorizer()),\n",
       "                                       (&#x27;ros&#x27;,\n",
       "                                        RandomOverSampler(sampling_strategy=&#x27;minority&#x27;)),\n",
       "                                       (&#x27;adac&#x27;,\n",
       "                                        AdaBoostClassifier(base_estimator=DecisionTreeClassifier()))]),\n",
       "             param_grid={&#x27;adac__learning_rate&#x27;: [0.01, 0.1, 0.2],\n",
       "                         &#x27;adac__n_estimators&#x27;: [50, 100],\n",
       "                         &#x27;tvec__max_df&#x27;: [0.9, 0.95], &#x27;tvec__min_df&#x27;: [10],\n",
       "                         &#x27;tvec__ngram_range&#x27;: [(1, 1), (1, 2)]},\n",
       "             scoring=&#x27;f1_micro&#x27;)</pre></div></div></div><div class=\"sk-parallel\"><div class=\"sk-parallel-item\"><div class=\"sk-item\"><div class=\"sk-label-container\"><div class=\"sk-label sk-toggleable\"><input class=\"sk-toggleable__control sk-hidden--visually\" id=\"sk-estimator-id-2\" type=\"checkbox\" ><label for=\"sk-estimator-id-2\" class=\"sk-toggleable__label sk-toggleable__label-arrow\">estimator: Pipeline</label><div class=\"sk-toggleable__content\"><pre>Pipeline(steps=[(&#x27;tvec&#x27;, TfidfVectorizer()),\n",
       "                (&#x27;ros&#x27;, RandomOverSampler(sampling_strategy=&#x27;minority&#x27;)),\n",
       "                (&#x27;adac&#x27;,\n",
       "                 AdaBoostClassifier(base_estimator=DecisionTreeClassifier()))])</pre></div></div></div><div class=\"sk-serial\"><div class=\"sk-item\"><div class=\"sk-serial\"><div class=\"sk-item\"><div class=\"sk-estimator sk-toggleable\"><input class=\"sk-toggleable__control sk-hidden--visually\" id=\"sk-estimator-id-3\" type=\"checkbox\" ><label for=\"sk-estimator-id-3\" class=\"sk-toggleable__label sk-toggleable__label-arrow\">TfidfVectorizer</label><div class=\"sk-toggleable__content\"><pre>TfidfVectorizer()</pre></div></div></div><div class=\"sk-item\"><div class=\"sk-estimator sk-toggleable\"><input class=\"sk-toggleable__control sk-hidden--visually\" id=\"sk-estimator-id-4\" type=\"checkbox\" ><label for=\"sk-estimator-id-4\" class=\"sk-toggleable__label sk-toggleable__label-arrow\">RandomOverSampler</label><div class=\"sk-toggleable__content\"><pre>RandomOverSampler(sampling_strategy=&#x27;minority&#x27;)</pre></div></div></div><div class=\"sk-item sk-dashed-wrapped\"><div class=\"sk-label-container\"><div class=\"sk-label sk-toggleable\"><input class=\"sk-toggleable__control sk-hidden--visually\" id=\"sk-estimator-id-5\" type=\"checkbox\" ><label for=\"sk-estimator-id-5\" class=\"sk-toggleable__label sk-toggleable__label-arrow\">adac: AdaBoostClassifier</label><div class=\"sk-toggleable__content\"><pre>AdaBoostClassifier(base_estimator=DecisionTreeClassifier())</pre></div></div></div><div class=\"sk-parallel\"><div class=\"sk-parallel-item\"><div class=\"sk-item\"><div class=\"sk-label-container\"><div class=\"sk-label sk-toggleable\"><input class=\"sk-toggleable__control sk-hidden--visually\" id=\"sk-estimator-id-6\" type=\"checkbox\" ><label for=\"sk-estimator-id-6\" class=\"sk-toggleable__label sk-toggleable__label-arrow\">base_estimator: DecisionTreeClassifier</label><div class=\"sk-toggleable__content\"><pre>DecisionTreeClassifier()</pre></div></div></div><div class=\"sk-serial\"><div class=\"sk-item\"><div class=\"sk-estimator sk-toggleable\"><input class=\"sk-toggleable__control sk-hidden--visually\" id=\"sk-estimator-id-7\" type=\"checkbox\" ><label for=\"sk-estimator-id-7\" class=\"sk-toggleable__label sk-toggleable__label-arrow\">DecisionTreeClassifier</label><div class=\"sk-toggleable__content\"><pre>DecisionTreeClassifier()</pre></div></div></div></div></div></div></div></div></div></div></div></div></div></div></div></div></div>"
      ],
      "text/plain": [
       "GridSearchCV(cv=5,\n",
       "             estimator=Pipeline(steps=[('tvec', TfidfVectorizer()),\n",
       "                                       ('ros',\n",
       "                                        RandomOverSampler(sampling_strategy='minority')),\n",
       "                                       ('adac',\n",
       "                                        AdaBoostClassifier(base_estimator=DecisionTreeClassifier()))]),\n",
       "             param_grid={'adac__learning_rate': [0.01, 0.1, 0.2],\n",
       "                         'adac__n_estimators': [50, 100],\n",
       "                         'tvec__max_df': [0.9, 0.95], 'tvec__min_df': [10],\n",
       "                         'tvec__ngram_range': [(1, 1), (1, 2)]},\n",
       "             scoring='f1_micro')"
      ]
     },
     "execution_count": 10,
     "metadata": {},
     "output_type": "execute_result"
    }
   ],
   "source": [
    "#Train model\n",
    "gs8.fit(X_train,y_train)"
   ]
  },
  {
   "cell_type": "markdown",
   "id": "4fb51724-1ab5-4fc6-92cc-bc92e21c67de",
   "metadata": {},
   "source": [
    "#### 2.8.2 Evaluation"
   ]
  },
  {
   "cell_type": "code",
   "execution_count": 11,
   "id": "e406f083-fb2b-4699-abc2-afdb58eae0e5",
   "metadata": {},
   "outputs": [
    {
     "name": "stdout",
     "output_type": "stream",
     "text": [
      "Train scores\n",
      "--------------------------\n",
      "F1 score: 0.9434\n",
      "--------------------------\n",
      "Recall score: 0.94\n",
      "Precision score: 0.9551\n",
      "Accuracy score: 0.94\n"
     ]
    }
   ],
   "source": [
    "train_scores(gs8, X_train, y_train)"
   ]
  },
  {
   "cell_type": "code",
   "execution_count": 12,
   "id": "01932f2a-ad6a-4667-a9ff-9eecff96cabc",
   "metadata": {},
   "outputs": [
    {
     "name": "stdout",
     "output_type": "stream",
     "text": [
      "Test scores\n",
      "--------------------------\n",
      "F1 score: 0.6735\n",
      "--------------------------\n",
      "Recall score: 0.6689\n",
      "Precision score: 0.682\n",
      "Accuracy score: 0.6689\n"
     ]
    }
   ],
   "source": [
    "test_scores(gs8, X_test, y_test)"
   ]
  },
  {
   "cell_type": "code",
   "execution_count": 13,
   "id": "8a84c76e-01a4-4a1b-8b66-cfcdcd498b59",
   "metadata": {},
   "outputs": [
    {
     "data": {
      "image/png": "[encoded data removed]",
      "text/plain": [
       "<Figure size 640x480 with 2 Axes>"
      ]
     },
     "metadata": {},
     "output_type": "display_data"
    }
   ],
   "source": [
    "# Assuming you have a list of sorted class labels\n",
    "class_labels = ['negative', 'neutral', 'positive']\n",
    "#class_labels = gs1.classes_\n",
    "pred = gs8.predict(X_test)\n",
    "# Create the confusion matrix\n",
    "cm = confusion_matrix(y_test, pred)\n",
    "\n",
    "# Create the ConfusionMatrixDisplay with display_labels\n",
    "disp = ConfusionMatrixDisplay(confusion_matrix=cm, display_labels=class_labels)\n",
    "\n",
    "# Plot the confusion matrix\n",
    "disp.plot()\n",
    "plt.show()"
   ]
  },
  {
   "cell_type": "markdown",
   "id": "31264acc-7c4e-4173-a908-a5847918d71e",
   "metadata": {},
   "source": [
    "*Evaluation of Model 8: Extremely overfitting.*"
   ]
  },
  {
   "cell_type": "markdown",
   "id": "eed9de6e-321a-4621-be87-89ffb4441593",
   "metadata": {},
   "source": [
    "## 3. Conclusion"
   ]
  },
  {
   "cell_type": "markdown",
   "id": "7b8c0b56-61e2-4337-a630-0c52ea655acd",
   "metadata": {},
   "source": [
    "Based on all the models that we ran, we can say that most of the models performed quite similarly. However, in terms of scores, they mostly hover around F1 scores in the 60s to low 70s. The results are as follows:\n",
    "\n",
    "| # | Model Type                      | Addressed Class Imbalance? | F1-Score                      | Review                          | Choose model? |\n",
    "|---|---------------------------------|----------------------------|-------------------------------|---------------------------------|---------------|\n",
    "| 1 | Multinomial Naive Bayes         | No                         | Train: 0.7282<br>Test: 0.6957 | Mildly decent.                  |               |\n",
    "| 2 | Multinomial Naive Bayes         | ROS                        | Train: 0.7483<br>Test: 0.7005 | Improved on Model 1             |      ✓        |\n",
    "| 3 | Multinomial Naive Bayes         | SMOTE                      | Train: 0.7442<br>Test: 0.6814 | Poorer test scores than Model 1 |               |\n",
    "| 4 | Logistic Regression             | Undersampling              | Train: 0.6887<br>Test: 0.6308 | Poor scores.                    |               |\n",
    "| 5 | Random Forest                   | ROS                        | Train: 0.7221<br>Test: 0.6228 | Poor scores and overfitted.     |               |\n",
    "| 6 | Logistic Regression             | ROS                        | Train: 0.7208<br>Test: 0.6930 | Close to Multinomial NB         |               |\n",
    "| 7 | Support Vector Machine (Linear) | ROS                        | Train: 0.7399<br>Test: 0.6927 | Close to Multinomial NB         |               |\n",
    "| 8 | Adaboost Classifier             | ROS                        | Train: 0.9434<br>Test: 0.6735 | Very overfit                    |               |          \n",
    "\n",
    "Overall, I would say that the Multinomial Naive Bayes (with RandomOverSampler) performed the best, although it is very close to the other scores. The main reason for choosing this model is that it has the best test scores, while not being overfitted."
   ]
  },
  {
   "cell_type": "markdown",
   "id": "fbd85c04-98e6-44dc-b931-5feca33fbdf0",
   "metadata": {},
   "source": [
    "### 3.1 Deployment"
   ]
  },
  {
   "cell_type": "code",
   "execution_count": 294,
   "id": "dd2ae895-e1c5-4b34-9a72-aa79549cbf8d",
   "metadata": {},
   "outputs": [],
   "source": [
    "with open('../data/03_production_sentiment_model.pkl', 'wb') as file:\n",
    "    pickle.dump(gs2, file)"
   ]
  },
  {
   "cell_type": "markdown",
   "id": "52ed38ac-f404-4db1-82f8-430d06b96813",
   "metadata": {},
   "source": [
    "The above model is deployed on Google Cloud. We've encapsulated the model within a Flask API and containerised the entire setup using Docker for scalability and ease of deployment. Users can interact with the model through a Streamlit app accessible at this [link](https://sentiment-analysis-bahasa-melayu.streamlit.app/). The steps behind the entire process is in the next notebook. "
   ]
  },
  {
   "cell_type": "markdown",
   "id": "20572b08-98ec-41b5-bb19-13c24d10ebad",
   "metadata": {},
   "source": [
    "## 4. Future Works"
   ]
  },
  {
   "cell_type": "markdown",
   "id": "7f2a5b0d-87ac-42ad-a806-8225af157f56",
   "metadata": {},
   "source": [
    "There are a few issues with this project that I feel could be addressed in order to create a better Sentiment Analysis classifier. Due to the challenging nature of Malay social media text, it was a challenge to improve the scores, even when inputing more comments. Given more time, I would:\n",
    "\n",
    "1. Dive deeper to understand the intricacies of Malay social media text\n",
    "    1. This would allow me to create a better stopword collection that is meant for Malay social media text.\n",
    "    2. Similarly, understanding it deeper will allow us to build a lexicon-based sentiment analysis model as well that works well for social media text.\n",
    "1. After which, get more data\n",
    "    1. This would hopefully address the class-imbalance issue.\n",
    "    2. Also, it would be beneficial to expand the project to having more classes (eg. emotion analysis); however, it will require much more data for each class."
   ]
  }
 ],
 "metadata": {
  "kernelspec": {
   "display_name": "Python 3 (ipykernel)",
   "language": "python",
   "name": "python3"
  },
  "language_info": {
   "codemirror_mode": {
    "name": "ipython",
    "version": 3
   },
   "file_extension": ".py",
   "mimetype": "text/x-python",
   "name": "python",
   "nbconvert_exporter": "python",
   "pygments_lexer": "ipython3",
   "version": "3.10.10"
  }
 },
 "nbformat": 4,
 "nbformat_minor": 5
}
